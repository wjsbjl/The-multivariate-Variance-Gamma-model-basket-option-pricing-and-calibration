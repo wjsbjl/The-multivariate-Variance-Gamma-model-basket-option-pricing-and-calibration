{
 "cells": [
  {
   "attachments": {},
   "cell_type": "markdown",
   "metadata": {},
   "source": [
    "# 环境配置"
   ]
  },
  {
   "cell_type": "code",
   "execution_count": 1,
   "metadata": {},
   "outputs": [],
   "source": [
    "import numpy as np\n",
    "import pandas as pd\n",
    "from scipy.stats import multivariate_normal\n",
    "from tqdm import trange"
   ]
  },
  {
   "attachments": {},
   "cell_type": "markdown",
   "metadata": {},
   "source": [
    "# The multivariate Variance Gamma model basket option pricing and calibration 论文复刻"
   ]
  },
  {
   "attachments": {},
   "cell_type": "markdown",
   "metadata": {},
   "source": [
    "Parameter  \n",
    "$r = 3\\%$  \n",
    "$\\rho_{i,j}=0, ~for~i \\ne j ~and~ i, j = 1, 2, 3$  \n",
    "$N = 10^6$"
   ]
  },
  {
   "attachments": {},
   "cell_type": "markdown",
   "metadata": {
    "collapsed": false
   },
   "source": [
    "| 1| 1 | 2 | 3|\n",
    "|- |- |- |- |\n",
    "|$\\mu$|-0.1368 | -0.056 | -0.1984 |\n",
    "|$\\sigma$| 0.1099 | 0.1677 | 0.0365 |\n",
    "| $X(0)$ | 100 | 200 | 300 |\n",
    "| $\\omega$ | 1/3 | 1/6 | 1/9 |"
   ]
  },
  {
   "attachments": {},
   "cell_type": "markdown",
   "metadata": {},
   "source": [
    "$$\\varepsilon[K]=\\frac{|\\overline{C}[K] - C^{sim}[K]|}{C^{sim}[K]}$$"
   ]
  },
  {
   "attachments": {},
   "cell_type": "markdown",
   "metadata": {},
   "source": [
    "## table1"
   ]
  },
  {
   "cell_type": "code",
   "execution_count": 2,
   "metadata": {},
   "outputs": [
    {
     "data": {
      "text/html": [
       "<div>\n",
       "<style scoped>\n",
       "    .dataframe tbody tr th:only-of-type {\n",
       "        vertical-align: middle;\n",
       "    }\n",
       "\n",
       "    .dataframe tbody tr th {\n",
       "        vertical-align: top;\n",
       "    }\n",
       "\n",
       "    .dataframe thead th {\n",
       "        text-align: right;\n",
       "    }\n",
       "</style>\n",
       "<table border=\"1\" class=\"dataframe\">\n",
       "  <thead>\n",
       "    <tr style=\"text-align: right;\">\n",
       "      <th></th>\n",
       "      <th>X_0</th>\n",
       "      <th>mu</th>\n",
       "      <th>sigma</th>\n",
       "      <th>weight</th>\n",
       "    </tr>\n",
       "  </thead>\n",
       "  <tbody>\n",
       "    <tr>\n",
       "      <th>stock 1</th>\n",
       "      <td>100</td>\n",
       "      <td>-0.1368</td>\n",
       "      <td>0.1099</td>\n",
       "      <td>0.333333</td>\n",
       "    </tr>\n",
       "    <tr>\n",
       "      <th>stock 2</th>\n",
       "      <td>200</td>\n",
       "      <td>-0.0560</td>\n",
       "      <td>0.1677</td>\n",
       "      <td>0.166667</td>\n",
       "    </tr>\n",
       "    <tr>\n",
       "      <th>stock 3</th>\n",
       "      <td>300</td>\n",
       "      <td>-0.1984</td>\n",
       "      <td>0.0365</td>\n",
       "      <td>0.111111</td>\n",
       "    </tr>\n",
       "  </tbody>\n",
       "</table>\n",
       "</div>"
      ],
      "text/plain": [
       "         X_0      mu   sigma    weight\n",
       "stock 1  100 -0.1368  0.1099  0.333333\n",
       "stock 2  200 -0.0560  0.1677  0.166667\n",
       "stock 3  300 -0.1984  0.0365  0.111111"
      ]
     },
     "execution_count": 2,
     "metadata": {},
     "output_type": "execute_result"
    }
   ],
   "source": [
    "r = 0.03\n",
    "rho = np.eye(3)\n",
    "X_0 = np.array([100, 200, 300])\n",
    "q = np.array([0, 0, 0])\n",
    "omega = np.array([0, 0, 0])\n",
    "mu = np.array([-0.1368, -0.056, -0.1984])\n",
    "sigma = np.array([0.1099, 0.1677, 0.0365])\n",
    "weight = np.array([1/3, 1/6, 1/9]) # w是权重，omega才是参数\n",
    "K = np.array([0, 0, 0])\n",
    "parameter_list = [X_0, q, omega, mu, sigma, weight, K]\n",
    "\n",
    "table1 = pd.DataFrame(data =  {'X_0': X_0, 'mu': mu,'sigma': sigma, 'weight' : weight},\n",
    "                      index =  ['stock 1', 'stock 2', 'stock 3'])\n",
    "table1"
   ]
  },
  {
   "attachments": {},
   "cell_type": "markdown",
   "metadata": {},
   "source": [
    "## table2"
   ]
  },
  {
   "attachments": {},
   "cell_type": "markdown",
   "metadata": {},
   "source": [
    "先做个表头"
   ]
  },
  {
   "cell_type": "code",
   "execution_count": 2,
   "metadata": {},
   "outputs": [
    {
     "data": {
      "text/html": [
       "<div>\n",
       "<style scoped>\n",
       "    .dataframe tbody tr th:only-of-type {\n",
       "        vertical-align: middle;\n",
       "    }\n",
       "\n",
       "    .dataframe tbody tr th {\n",
       "        vertical-align: top;\n",
       "    }\n",
       "\n",
       "    .dataframe thead tr th {\n",
       "        text-align: left;\n",
       "    }\n",
       "</style>\n",
       "<table border=\"1\" class=\"dataframe\">\n",
       "  <thead>\n",
       "    <tr>\n",
       "      <th>T</th>\n",
       "      <th colspan=\"10\" halign=\"left\">1</th>\n",
       "      <th>...</th>\n",
       "      <th colspan=\"10\" halign=\"left\">2</th>\n",
       "    </tr>\n",
       "    <tr>\n",
       "      <th>v</th>\n",
       "      <th colspan=\"5\" halign=\"left\">0.50</th>\n",
       "      <th colspan=\"5\" halign=\"left\">0.75</th>\n",
       "      <th>...</th>\n",
       "      <th colspan=\"5\" halign=\"left\">0.75</th>\n",
       "      <th colspan=\"5\" halign=\"left\">0.90</th>\n",
       "    </tr>\n",
       "    <tr>\n",
       "      <th>K</th>\n",
       "      <th>75</th>\n",
       "      <th>90</th>\n",
       "      <th>100</th>\n",
       "      <th>110</th>\n",
       "      <th>125</th>\n",
       "      <th>75</th>\n",
       "      <th>90</th>\n",
       "      <th>100</th>\n",
       "      <th>110</th>\n",
       "      <th>125</th>\n",
       "      <th>...</th>\n",
       "      <th>75</th>\n",
       "      <th>90</th>\n",
       "      <th>100</th>\n",
       "      <th>110</th>\n",
       "      <th>125</th>\n",
       "      <th>75</th>\n",
       "      <th>90</th>\n",
       "      <th>100</th>\n",
       "      <th>110</th>\n",
       "      <th>125</th>\n",
       "    </tr>\n",
       "  </thead>\n",
       "  <tbody>\n",
       "    <tr>\n",
       "      <th>$\\overline{C}[K]$</th>\n",
       "      <td>0.0</td>\n",
       "      <td>0.0</td>\n",
       "      <td>0.0</td>\n",
       "      <td>0.0</td>\n",
       "      <td>0.0</td>\n",
       "      <td>0.0</td>\n",
       "      <td>0.0</td>\n",
       "      <td>0.0</td>\n",
       "      <td>0.0</td>\n",
       "      <td>0.0</td>\n",
       "      <td>...</td>\n",
       "      <td>0.0</td>\n",
       "      <td>0.0</td>\n",
       "      <td>0.0</td>\n",
       "      <td>0.0</td>\n",
       "      <td>0.0</td>\n",
       "      <td>0.0</td>\n",
       "      <td>0.0</td>\n",
       "      <td>0.0</td>\n",
       "      <td>0.0</td>\n",
       "      <td>0.0</td>\n",
       "    </tr>\n",
       "    <tr>\n",
       "      <th>$C^sim[K]$</th>\n",
       "      <td>0.0</td>\n",
       "      <td>0.0</td>\n",
       "      <td>0.0</td>\n",
       "      <td>0.0</td>\n",
       "      <td>0.0</td>\n",
       "      <td>0.0</td>\n",
       "      <td>0.0</td>\n",
       "      <td>0.0</td>\n",
       "      <td>0.0</td>\n",
       "      <td>0.0</td>\n",
       "      <td>...</td>\n",
       "      <td>0.0</td>\n",
       "      <td>0.0</td>\n",
       "      <td>0.0</td>\n",
       "      <td>0.0</td>\n",
       "      <td>0.0</td>\n",
       "      <td>0.0</td>\n",
       "      <td>0.0</td>\n",
       "      <td>0.0</td>\n",
       "      <td>0.0</td>\n",
       "      <td>0.0</td>\n",
       "    </tr>\n",
       "    <tr>\n",
       "      <th>$\\varepsilon[K]$</th>\n",
       "      <td>0.0</td>\n",
       "      <td>0.0</td>\n",
       "      <td>0.0</td>\n",
       "      <td>0.0</td>\n",
       "      <td>0.0</td>\n",
       "      <td>0.0</td>\n",
       "      <td>0.0</td>\n",
       "      <td>0.0</td>\n",
       "      <td>0.0</td>\n",
       "      <td>0.0</td>\n",
       "      <td>...</td>\n",
       "      <td>0.0</td>\n",
       "      <td>0.0</td>\n",
       "      <td>0.0</td>\n",
       "      <td>0.0</td>\n",
       "      <td>0.0</td>\n",
       "      <td>0.0</td>\n",
       "      <td>0.0</td>\n",
       "      <td>0.0</td>\n",
       "      <td>0.0</td>\n",
       "      <td>0.0</td>\n",
       "    </tr>\n",
       "  </tbody>\n",
       "</table>\n",
       "<p>3 rows × 30 columns</p>\n",
       "</div>"
      ],
      "text/plain": [
       "T                    1                                               ...    2  \\\n",
       "v                 0.50                     0.75                      ... 0.75   \n",
       "K                  75   90   100  110  125  75   90   100  110  125  ...  75    \n",
       "$\\overline{C}[K]$  0.0  0.0  0.0  0.0  0.0  0.0  0.0  0.0  0.0  0.0  ...  0.0   \n",
       "$C^sim[K]$         0.0  0.0  0.0  0.0  0.0  0.0  0.0  0.0  0.0  0.0  ...  0.0   \n",
       "$\\varepsilon[K]$   0.0  0.0  0.0  0.0  0.0  0.0  0.0  0.0  0.0  0.0  ...  0.0   \n",
       "\n",
       "T                                                               \n",
       "v                                     0.90                      \n",
       "K                  90   100  110  125  75   90   100  110  125  \n",
       "$\\overline{C}[K]$  0.0  0.0  0.0  0.0  0.0  0.0  0.0  0.0  0.0  \n",
       "$C^sim[K]$         0.0  0.0  0.0  0.0  0.0  0.0  0.0  0.0  0.0  \n",
       "$\\varepsilon[K]$   0.0  0.0  0.0  0.0  0.0  0.0  0.0  0.0  0.0  \n",
       "\n",
       "[3 rows x 30 columns]"
      ]
     },
     "execution_count": 2,
     "metadata": {},
     "output_type": "execute_result"
    }
   ],
   "source": [
    "from itertools import product\n",
    "# T, v, K, C_hat, C_sim, vare\n",
    "\n",
    "T = [1, 2]\n",
    "v = [0.5, 0.75, 0.9]\n",
    "K = [75, 90, 100, 110, 125]\n",
    "\n",
    "table2 = pd.DataFrame(list(product(T, v, K)), columns = ['T', 'v', 'K']).set_index(['T','v', 'K'])\n",
    "table2.loc[:,['$\\overline{C}[K]$','$C^sim[K]$', r'$\\varepsilon[K]$']] = 0\n",
    "table2.T"
   ]
  },
  {
   "attachments": {},
   "cell_type": "markdown",
   "metadata": {},
   "source": [
    "### 计算所有T, v, K"
   ]
  },
  {
   "cell_type": "code",
   "execution_count": 3,
   "metadata": {},
   "outputs": [],
   "source": [
    "from scipy.stats import norm\n",
    "import scipy.integrate as sci\n",
    "import math\n",
    "from scipy.stats import norm\n",
    "from scipy.optimize import fsolve # 解决非线性方程组的数值求解问题\n",
    "from scipy.optimize import bisect # 解决非线性方程组的数值求解问题\n",
    "from scipy.stats import gamma # gamma分布的概率密度"
   ]
  },
  {
   "attachments": {},
   "cell_type": "markdown",
   "metadata": {},
   "source": [
    "#### upper"
   ]
  },
  {
   "cell_type": "code",
   "execution_count": 12,
   "metadata": {},
   "outputs": [
    {
     "data": {
      "text/plain": [
       "3"
      ]
     },
     "execution_count": 12,
     "metadata": {},
     "output_type": "execute_result"
    }
   ],
   "source": []
  },
  {
   "cell_type": "code",
   "execution_count": 13,
   "metadata": {},
   "outputs": [],
   "source": [
    "def C_upper_calculate_func(T, v, K, sigma, mu, omega, r, q):\n",
    "    omega = 1/v * np.log(1 - 1/2 * (sigma ** 2) * v - mu * v)\n",
    "    K_i = K / weight.copy() / len(omega)\n",
    "    def f(x):\n",
    "        gamma_density = gamma(a=T/v, scale=v).pdf(x) # ((1/v) ** (T/v)) / (math.gamma(T/v)) * (x ** (T/v - 1)) * np.exp(-x / v)\n",
    "        d_1 = (np.log(X_0/K_i) + (r - q + omega) * T + mu * x + sigma ** 2 * x)/(sigma * np.sqrt(x))\n",
    "        d_2 = d_1 - sigma * np.sqrt(x)\n",
    "        exp_upper = np.exp((r - q + omega ) * T + (mu + sigma ** 2 / 2) * x)\n",
    "        X_price_numerical = ((X_0 * exp_upper * norm.cdf(d_1) - K_i * norm.cdf(d_2)))\n",
    "        S_price_numerical = np.dot(X_price_numerical, weight)\n",
    "        return S_price_numerical * gamma_density * np.exp(-r * T)\n",
    "    C_upper = sci.quad(f, 0, np.inf)[0]\n",
    "    return C_upper"
   ]
  },
  {
   "attachments": {},
   "cell_type": "markdown",
   "metadata": {},
   "source": [
    "#### lower"
   ]
  },
  {
   "attachments": {},
   "cell_type": "markdown",
   "metadata": {},
   "source": [
    "$$\\lambda_i = w_j X_j(0)\\exp\\{(r-q_j+\\omega_j)T+\\mu_j y+\\frac{\\sigma_j^2 y}{2}\\}$$  \n",
    "$$\\sigma_{\\Lambda_y}^2=\\sum_{i=1}^n\\lambda_i^2\\sigma_i^2+\\sum_{i=1, i\\ne j}^n \\lambda_i \\lambda_j \\sigma_i \\sigma_j \\rho_{i,j}$$  \n",
    "$$r_i=\\frac{\\sum_{i=1}^n\\lambda_j\\sigma_j\\rho_{i,j}}{\\sigma_{\\Lambda_y}}$$"
   ]
  },
  {
   "cell_type": "code",
   "execution_count": 15,
   "metadata": {},
   "outputs": [],
   "source": [
    "def C_lower_calculate_func(T, v, K, sigma, mu, omega, r, q):\n",
    "    def g(x):\n",
    "        omega = 1/v * np.log(1 - 1/2 * (sigma ** 2) * v - mu * v)\n",
    "        K_i = K / weight.copy() / len(omega)\n",
    "        lambda_i = weight * X_0 * np.exp((r - q + omega) * T + (mu + sigma ** 2 / 2) * x)\n",
    "        sigma2Lambda = np.dot(np.dot((lambda_i * sigma),rho),(lambda_i * sigma)) # 是个矩阵\n",
    "        r_i = np.dot((lambda_i * sigma),rho)/sigma2Lambda\n",
    "        gamma_density = gamma(a=T/v, scale=v).pdf(x) # ((1/v) ** (T/v)) / (math.gamma(T/v)) * (x ** (T/v - 1)) * np.exp(-x / v)\n",
    "        d_1 = (np.log(X_0/K_i) + (r - q + omega) * T + mu * x + sigma ** 2 * x / 2 * (1 + r_i ** 2))/(sigma * np.sqrt(x) * r_i)\n",
    "        d_2 = d_1 - sigma * np.sqrt(x) * r_i\n",
    "        exp_lower = np.exp((r + omega - q) * T + (mu + sigma ** 2 / 2) * x)\n",
    "        X_price_numerical = ((X_0 * exp_lower * norm.cdf(d_1) - K_i * norm.cdf(d_2)))\n",
    "        S_price_numerical = np.dot(X_price_numerical, weight)\n",
    "        return S_price_numerical * gamma_density * np.exp(-r * T)\n",
    "    C_lower = sci.quad(g, 0, np.inf)[0]\n",
    "    return C_lower"
   ]
  },
  {
   "attachments": {},
   "cell_type": "markdown",
   "metadata": {},
   "source": [
    "#### z_y to approximate"
   ]
  },
  {
   "attachments": {},
   "cell_type": "markdown",
   "metadata": {},
   "source": [
    "##### var upper"
   ]
  },
  {
   "attachments": {},
   "cell_type": "markdown",
   "metadata": {},
   "source": [
    "\\begin{align}\n",
    "& \\operatorname{Var}\\left[S_y^c\\right]=\\sum_{i=1}^n \\sum_{j=1}^n w_i w_j X_i(0) X_j(0) \\\\\n",
    "& \\quad e^{2 r T+\\left(\\omega_i-q_i+\\omega_j-q_j\\right) T+\\left(\\mu_i+\\mu_j\\right) y+\\frac{\\sigma_i^2+\\sigma_j^2}{2} y}\\left(e^{\\sigma_i \\sigma_j y}-1\\right) .\n",
    "\\end{align}"
   ]
  },
  {
   "cell_type": "code",
   "execution_count": 6,
   "metadata": {},
   "outputs": [],
   "source": [
    "def var_upper_calculate_func(T, v, K, sigma, mu, omega, r, q):\n",
    "    def var_upper_calculate(x):\n",
    "        gamma_density = gamma(a=T/v, scale=v).pdf(x) # ((1/v) ** (T/v)) / (math.gamma(T/v)) * (x ** (T/v - 1)) * np.exp(-x / v)\n",
    "        var_upper_part1 = np.outer(X_0 * weight, X_0 * weight)\n",
    "        var_upper_part2 = np.exp(2 * r * T)\n",
    "        var_upper_part3 = np.outer(np.exp((weight - q) * T + mu * x + sigma ** 2 / 2 * x),np.exp((weight - q) * T + mu * x + sigma ** 2 / 2 * x))\n",
    "        var_upper_part4 = np.exp(np.outer(sigma,sigma) * x) - 1\n",
    "        var_upper_int = sum(sum(var_upper_part1 * var_upper_part2 * var_upper_part3 * var_upper_part4))\n",
    "        return var_upper_int * gamma_density\n",
    "    var_upper = sci.quad(var_upper_calculate, 0, np.inf)[0]\n",
    "    return var_upper"
   ]
  },
  {
   "attachments": {},
   "cell_type": "markdown",
   "metadata": {},
   "source": [
    "\\begin{align*}\n",
    "\\operatorname{Var}  {\\left[S_y^l\\right]}&={\\sum_{i=1}^n \\sum_{j=1}^n w_i w_j X_i(0) X_j(0) } \\\\\n",
    "&\\quad \\times \\mathrm{e}^{2 r T+\\left(\\omega_i-q_i+\\omega_j-q_j\\right) T+\\left(\\mu_i+\\mu_j+\\frac{1}{2}\\left(\\sigma_i^2\\left(1-r_i^2\\right)+\\sigma_j^2\\left(1-r_j^2\\right)\\right)\\right) y} \\\\\n",
    "&\\quad \\times e^{\\frac{1}{2}(r^2_i\\sigma^2_i+r^2_j\\sigma^2_j)y}(e^{r_ir_j\\sigma_i\\sigma_jy}-1)\\\\\n",
    "& {=\\sum_{i=1}^n \\sum_{j=1}^n w_i w_j X_i(0) X_j(0) } \\\\\n",
    "&\\quad \\times \\mathrm{e}^{2 r T+\\left(\\omega_i-q_i+\\omega_j-q_j\\right) T+\\left(\\mu_i+\\mu_j+\\frac{1}{2}\\left(\\sigma_i^2+\\sigma_j^2\\right)\\right) y} \\\\\n",
    "& \\quad\\times (e^{r_ir_j\\sigma_i\\sigma_jy}-1)\n",
    "\\end{align*}"
   ]
  },
  {
   "attachments": {},
   "cell_type": "markdown",
   "metadata": {},
   "source": [
    "权重是$w$  \n",
    "$$\\lambda_i = w_j X_j(0)\\exp\\{(r-q_j+\\omega_j)T+\\mu_j y+\\frac{\\sigma_j^2 y}{2}\\}$$  \n",
    "$$\\sigma_{\\Lambda_y}^2=\\sum_{i=1}^n\\lambda_i^2\\sigma_i^2+\\sum_{i=1, i\\ne j}^n \\lambda_i \\lambda_j \\sigma_i \\sigma_j \\rho_{i,j}$$  \n",
    "$$r_i=\\frac{\\sum_{i=1}^n\\lambda_j\\sigma_j\\rho_{i,j}}{\\sigma_{\\Lambda_y}}$$"
   ]
  },
  {
   "attachments": {},
   "cell_type": "markdown",
   "metadata": {},
   "source": [
    "##### var lower "
   ]
  },
  {
   "cell_type": "code",
   "execution_count": 7,
   "metadata": {},
   "outputs": [],
   "source": [
    "def var_lower_calculate_func(T, v, K, sigma, mu, omega, r, q):\n",
    "    def var_lower_calculation(x):\n",
    "        lambda_i = weight * X_0 * np.exp((r - q + omega) * T + (mu + sigma ** 2 / 2) * x)\n",
    "        sigma2Lambda = np.dot(np.dot((lambda_i * sigma),rho),(lambda_i * sigma)) # 是个矩阵\n",
    "        r_i = np.dot((lambda_i * sigma),rho)/np.sqrt(sigma2Lambda)\n",
    "        gamma_density = gamma(a=T/v, scale=v).pdf(x) # ((1/v) ** (T/v)) / (math.gamma(T/v)) * (x ** (T/v - 1)) * np.exp(-x / v)\n",
    "        var_lower_part1 = np.outer(X_0 * weight, X_0 * weight)\n",
    "        var_lower_part2 = np.exp(2 * r * T)\n",
    "        var_lower_part3 = np.outer(np.exp((weight - q) * T + mu * x + sigma ** 2 / 2 * x),np.exp((weight - q) * T + mu * x + sigma ** 2 / 2 * x))\n",
    "        var_lower_part4 = np.exp(np.outer(sigma * r_i, sigma * r_i) * x) - 1\n",
    "        var_lower_int = sum(sum(var_lower_part1 * var_lower_part2 * var_lower_part3 * var_lower_part4))\n",
    "        return var_lower_int * gamma_density\n",
    "    var_lower = sci.quad(var_lower_calculation, 0, np.inf)[0]\n",
    "    return var_lower"
   ]
  },
  {
   "attachments": {},
   "cell_type": "markdown",
   "metadata": {},
   "source": [
    "##### var Sy"
   ]
  },
  {
   "attachments": {},
   "cell_type": "markdown",
   "metadata": {},
   "source": [
    "\\begin{align*}\n",
    "\t\\mathrm{Var}[{_y}S]=\\sum_{i=1}^{n} \\sum_{j=1}^{n} w_{i} w_{j} X_{i}(0) X_{j}(0)  \n",
    "\t\\mathrm{e}^{2 r T+\\left(\\omega_{i}-q_{i}+\\omega_{j}-q_{j}\\right) T+\\left(\\mu_{i}+\\mu_{j}\\right) y} \n",
    "\te^{\\frac{\\sigma_i^2+\\sigma_j^2+\\rho_{i,j}\\sigma_i\\sigma_j\n",
    "\t}{4-\\rho^2_{i,j}}2(1-\\rho^2_{i,j})y}\n",
    "\\end{align*}\n"
   ]
  },
  {
   "cell_type": "code",
   "execution_count": 8,
   "metadata": {},
   "outputs": [],
   "source": [
    "def var_Sy_calculate_func(T, v, K, sigma, mu, omega, r, q):\n",
    "    def var_calculation(x):\n",
    "        gamma_density = gamma(a=T/v, scale=v).pdf(x) # ((1/v) ** (T/v)) / (math.gamma(T/v)) * (x ** (T/v - 1)) * np.exp(-x / v)\n",
    "        var_part1 = np.outer(X_0 * weight, X_0 * weight)\n",
    "        var_part2 = np.exp(2 * r * T)\n",
    "        var_part3 = np.outer(np.exp((weight - q) * T + mu * x),np.exp((weight - q) * T + mu * x))\n",
    "        var_part4_i_ne_j = np.exp((sigma ** 2 + (sigma ** 2).reshape(len(sigma),-1) + np.outer(sigma, sigma) * rho) * 2 * (1 - rho ** 2) * x/(4 - rho ** 2))\n",
    "        np.fill_diagonal(var_part4_i_ne_j, np.outer(np.exp(x * sigma ** 2), np.exp(x * sigma ** 2 * 2))) # 生成E[XY] # TODO\n",
    "        var_part4 = var_part4_i_ne_j - np.outer(np.exp(sigma ** 2 / 2 * x), np.exp(sigma ** 2 / 2 * x))\n",
    "        # var_part4 = (np.exp((sigma ** 2) * 2 * (1 - rho ** 2) * x/(4 - rho ** 2))) * (np.exp((sigma ** 2) * 2 * (1 - rho ** 2) * x/(4 - rho ** 2))) #* np.exp(np.outer(sigma,sigma) * rho  * 2 * (1 - rho ** 2) * x/(4 - rho ** 2))\n",
    "        var_int = sum(sum(var_part1 * var_part2 * var_part3 * var_part4))\n",
    "        return var_int * gamma_density\n",
    "    var_Sy = sci.quad(var_calculation, 0, np.inf)[0]\n",
    "    return var_Sy"
   ]
  },
  {
   "attachments": {},
   "cell_type": "markdown",
   "metadata": {},
   "source": [
    "$$z_y = \\frac{Var[S_y^c]-Var[S_y]}{Var[S_y^c]-Var[S_y^l]}$$  "
   ]
  },
  {
   "attachments": {},
   "cell_type": "markdown",
   "metadata": {},
   "source": [
    "#### sim"
   ]
  },
  {
   "attachments": {},
   "cell_type": "markdown",
   "metadata": {},
   "source": [
    "##### 生成随机数"
   ]
  },
  {
   "attachments": {},
   "cell_type": "markdown",
   "metadata": {},
   "source": [
    "##### 蒙特卡洛（向量化，指令并行）"
   ]
  },
  {
   "cell_type": "code",
   "execution_count": 14,
   "metadata": {},
   "outputs": [],
   "source": [
    "from tqdm import tqdm\n",
    "def monte_carlo_calculate_func(T, v, K, sigma, mu, omega, r, q, power_num):\n",
    "    sim_times = 10 ** power_num\n",
    "    np.random.seed(20240321) \n",
    "    Normal_values = multivariate_normal.rvs(mean=[0,0,0], cov=rho, size=sim_times)\n",
    "    Gamma_values = np.random.gamma(shape = T/v, scale = v, size=sim_times)\n",
    "    omega = 1/v * np.log(1 - 1/2 * (sigma ** 2) * v - mu * v)\n",
    "    K_i = K / weight.copy() / len(omega)\n",
    "    X_price_vector = X_0 * np.exp((r - q + omega) * T) * np.exp(np.outer(mu, Gamma_values)).T * np.exp(sigma * np.sqrt(Gamma_values.reshape(-1, 1)) * Normal_values)\n",
    "    S_price_vector = np.dot(X_price_vector, weight)\n",
    "    C_sim_vector_list = (S_price_vector - K) * (S_price_vector - K > 0)\n",
    "    C_sim = sum(C_sim_vector_list) * np.exp(-r * T) / len(C_sim_vector_list) # 原论文是27.3230\n",
    "    return C_sim"
   ]
  },
  {
   "attachments": {},
   "cell_type": "markdown",
   "metadata": {},
   "source": [
    "### 带入参数"
   ]
  },
  {
   "cell_type": "code",
   "execution_count": 10,
   "metadata": {},
   "outputs": [],
   "source": [
    "r = 0.03\n",
    "rho = np.eye(3)\n",
    "X_0 = np.array([100, 200, 300])\n",
    "q = np.array([0, 0, 0])\n",
    "# omega = np.array([0, 0, 0])\n",
    "mu = np.array([-0.1368, -0.056, -0.1984])\n",
    "sigma = np.array([0.1099, 0.1677, 0.0365])\n",
    "weight = np.array([1/3, 1/6, 1/9]) # w是权重，omega才是参数\n",
    "# K = np.array([0, 0, 0])"
   ]
  },
  {
   "cell_type": "code",
   "execution_count": 17,
   "metadata": {},
   "outputs": [
    {
     "name": "stderr",
     "output_type": "stream",
     "text": [
      "100%|██████████| 30/30 [00:28<00:00,  1.04it/s]\n"
     ]
    }
   ],
   "source": [
    "from tqdm import tqdm\n",
    "C_sim_result_list = list()\n",
    "C_approximate_list = list()\n",
    "power_num = 6\n",
    "\n",
    "for (T,v,K) in tqdm(table2.index.values):\n",
    "    C_upper = C_upper_calculate_func(T, v, K, sigma, mu, omega, r, q)\n",
    "    C_lower = C_lower_calculate_func(T, v, K, sigma, mu, omega, r, q)\n",
    "    var_upper = var_upper_calculate_func(T, v, K, sigma, mu, omega, r, q)\n",
    "    var_lower = var_lower_calculate_func(T, v, K, sigma, mu, omega, r, q)\n",
    "    var_Sy = var_Sy_calculate_func(T, v, K, sigma, mu, omega, r, q)\n",
    "    C_sim = monte_carlo_calculate_func(T, v, K, sigma, mu, omega, r, q, power_num)\n",
    "    C_sim_result_list.append(C_sim)\n",
    "    z_y = (var_upper - var_Sy)/(var_upper - var_lower)\n",
    "    C_approximate = z_y * C_lower + (1-z_y) * C_upper\n",
    "    C_approximate_list.append(C_approximate)"
   ]
  },
  {
   "cell_type": "code",
   "execution_count": 19,
   "metadata": {},
   "outputs": [
    {
     "data": {
      "text/html": [
       "<div>\n",
       "<style scoped>\n",
       "    .dataframe tbody tr th:only-of-type {\n",
       "        vertical-align: middle;\n",
       "    }\n",
       "\n",
       "    .dataframe tbody tr th {\n",
       "        vertical-align: top;\n",
       "    }\n",
       "\n",
       "    .dataframe thead th {\n",
       "        text-align: right;\n",
       "    }\n",
       "</style>\n",
       "<table border=\"1\" class=\"dataframe\">\n",
       "  <thead>\n",
       "    <tr style=\"text-align: right;\">\n",
       "      <th></th>\n",
       "      <th></th>\n",
       "      <th></th>\n",
       "      <th>$\\overline{C}[K]$</th>\n",
       "      <th>$C^sim[K]$</th>\n",
       "      <th>$\\varepsilon[K]$</th>\n",
       "    </tr>\n",
       "    <tr>\n",
       "      <th>T</th>\n",
       "      <th>v</th>\n",
       "      <th>K</th>\n",
       "      <th></th>\n",
       "      <th></th>\n",
       "      <th></th>\n",
       "    </tr>\n",
       "  </thead>\n",
       "  <tbody>\n",
       "    <tr>\n",
       "      <th rowspan=\"15\" valign=\"top\">1</th>\n",
       "      <th rowspan=\"5\" valign=\"top\">0.50</th>\n",
       "      <th>75</th>\n",
       "      <td>27.4592</td>\n",
       "      <td>27.3116</td>\n",
       "      <td>0.0054</td>\n",
       "    </tr>\n",
       "    <tr>\n",
       "      <th>90</th>\n",
       "      <td>14.0236</td>\n",
       "      <td>13.5774</td>\n",
       "      <td>0.0329</td>\n",
       "    </tr>\n",
       "    <tr>\n",
       "      <th>100</th>\n",
       "      <td>6.5495</td>\n",
       "      <td>5.9578</td>\n",
       "      <td>0.0993</td>\n",
       "    </tr>\n",
       "    <tr>\n",
       "      <th>110</th>\n",
       "      <td>1.9875</td>\n",
       "      <td>1.2027</td>\n",
       "      <td>0.6525</td>\n",
       "    </tr>\n",
       "    <tr>\n",
       "      <th>125</th>\n",
       "      <td>0.2386</td>\n",
       "      <td>0.0060</td>\n",
       "      <td>38.5718</td>\n",
       "    </tr>\n",
       "    <tr>\n",
       "      <th rowspan=\"5\" valign=\"top\">0.75</th>\n",
       "      <th>75</th>\n",
       "      <td>27.6455</td>\n",
       "      <td>27.4386</td>\n",
       "      <td>0.0075</td>\n",
       "    </tr>\n",
       "    <tr>\n",
       "      <th>90</th>\n",
       "      <td>14.4330</td>\n",
       "      <td>13.9589</td>\n",
       "      <td>0.0340</td>\n",
       "    </tr>\n",
       "    <tr>\n",
       "      <th>100</th>\n",
       "      <td>7.0179</td>\n",
       "      <td>6.4220</td>\n",
       "      <td>0.0928</td>\n",
       "    </tr>\n",
       "    <tr>\n",
       "      <th>110</th>\n",
       "      <td>2.2336</td>\n",
       "      <td>1.3957</td>\n",
       "      <td>0.6004</td>\n",
       "    </tr>\n",
       "    <tr>\n",
       "      <th>125</th>\n",
       "      <td>0.2271</td>\n",
       "      <td>0.0051</td>\n",
       "      <td>43.3726</td>\n",
       "    </tr>\n",
       "    <tr>\n",
       "      <th rowspan=\"5\" valign=\"top\">0.90</th>\n",
       "      <th>75</th>\n",
       "      <td>27.7609</td>\n",
       "      <td>27.5319</td>\n",
       "      <td>0.0083</td>\n",
       "    </tr>\n",
       "    <tr>\n",
       "      <th>90</th>\n",
       "      <td>14.6454</td>\n",
       "      <td>14.1706</td>\n",
       "      <td>0.0335</td>\n",
       "    </tr>\n",
       "    <tr>\n",
       "      <th>100</th>\n",
       "      <td>7.2420</td>\n",
       "      <td>6.6586</td>\n",
       "      <td>0.0876</td>\n",
       "    </tr>\n",
       "    <tr>\n",
       "      <th>110</th>\n",
       "      <td>2.3470</td>\n",
       "      <td>1.4925</td>\n",
       "      <td>0.5725</td>\n",
       "    </tr>\n",
       "    <tr>\n",
       "      <th>125</th>\n",
       "      <td>0.2212</td>\n",
       "      <td>0.0048</td>\n",
       "      <td>44.6569</td>\n",
       "    </tr>\n",
       "    <tr>\n",
       "      <th rowspan=\"15\" valign=\"top\">2</th>\n",
       "      <th rowspan=\"5\" valign=\"top\">0.50</th>\n",
       "      <th>75</th>\n",
       "      <td>29.9077</td>\n",
       "      <td>29.6091</td>\n",
       "      <td>0.0101</td>\n",
       "    </tr>\n",
       "    <tr>\n",
       "      <th>90</th>\n",
       "      <td>17.3893</td>\n",
       "      <td>16.6890</td>\n",
       "      <td>0.0420</td>\n",
       "    </tr>\n",
       "    <tr>\n",
       "      <th>100</th>\n",
       "      <td>10.3636</td>\n",
       "      <td>9.4982</td>\n",
       "      <td>0.0911</td>\n",
       "    </tr>\n",
       "    <tr>\n",
       "      <th>110</th>\n",
       "      <td>5.2106</td>\n",
       "      <td>4.2383</td>\n",
       "      <td>0.2294</td>\n",
       "    </tr>\n",
       "    <tr>\n",
       "      <th>125</th>\n",
       "      <td>1.5239</td>\n",
       "      <td>0.5537</td>\n",
       "      <td>1.7520</td>\n",
       "    </tr>\n",
       "    <tr>\n",
       "      <th rowspan=\"5\" valign=\"top\">0.75</th>\n",
       "      <th>75</th>\n",
       "      <td>30.2232</td>\n",
       "      <td>29.8354</td>\n",
       "      <td>0.0130</td>\n",
       "    </tr>\n",
       "    <tr>\n",
       "      <th>90</th>\n",
       "      <td>17.9822</td>\n",
       "      <td>17.2421</td>\n",
       "      <td>0.0429</td>\n",
       "    </tr>\n",
       "    <tr>\n",
       "      <th>100</th>\n",
       "      <td>11.0774</td>\n",
       "      <td>10.1977</td>\n",
       "      <td>0.0863</td>\n",
       "    </tr>\n",
       "    <tr>\n",
       "      <th>110</th>\n",
       "      <td>5.8540</td>\n",
       "      <td>4.8520</td>\n",
       "      <td>0.2065</td>\n",
       "    </tr>\n",
       "    <tr>\n",
       "      <th>125</th>\n",
       "      <td>1.7945</td>\n",
       "      <td>0.7026</td>\n",
       "      <td>1.5541</td>\n",
       "    </tr>\n",
       "    <tr>\n",
       "      <th rowspan=\"5\" valign=\"top\">0.90</th>\n",
       "      <th>75</th>\n",
       "      <td>30.4119</td>\n",
       "      <td>29.9823</td>\n",
       "      <td>0.0143</td>\n",
       "    </tr>\n",
       "    <tr>\n",
       "      <th>90</th>\n",
       "      <td>18.2933</td>\n",
       "      <td>17.5383</td>\n",
       "      <td>0.0431</td>\n",
       "    </tr>\n",
       "    <tr>\n",
       "      <th>100</th>\n",
       "      <td>11.4318</td>\n",
       "      <td>10.5484</td>\n",
       "      <td>0.0837</td>\n",
       "    </tr>\n",
       "    <tr>\n",
       "      <th>110</th>\n",
       "      <td>6.1666</td>\n",
       "      <td>5.1560</td>\n",
       "      <td>0.1960</td>\n",
       "    </tr>\n",
       "    <tr>\n",
       "      <th>125</th>\n",
       "      <td>1.9339</td>\n",
       "      <td>0.7811</td>\n",
       "      <td>1.4757</td>\n",
       "    </tr>\n",
       "  </tbody>\n",
       "</table>\n",
       "</div>"
      ],
      "text/plain": [
       "            $\\overline{C}[K]$  $C^sim[K]$  $\\varepsilon[K]$\n",
       "T v    K                                                   \n",
       "1 0.50 75             27.4592     27.3116            0.0054\n",
       "       90             14.0236     13.5774            0.0329\n",
       "       100             6.5495      5.9578            0.0993\n",
       "       110             1.9875      1.2027            0.6525\n",
       "       125             0.2386      0.0060           38.5718\n",
       "  0.75 75             27.6455     27.4386            0.0075\n",
       "       90             14.4330     13.9589            0.0340\n",
       "       100             7.0179      6.4220            0.0928\n",
       "       110             2.2336      1.3957            0.6004\n",
       "       125             0.2271      0.0051           43.3726\n",
       "  0.90 75             27.7609     27.5319            0.0083\n",
       "       90             14.6454     14.1706            0.0335\n",
       "       100             7.2420      6.6586            0.0876\n",
       "       110             2.3470      1.4925            0.5725\n",
       "       125             0.2212      0.0048           44.6569\n",
       "2 0.50 75             29.9077     29.6091            0.0101\n",
       "       90             17.3893     16.6890            0.0420\n",
       "       100            10.3636      9.4982            0.0911\n",
       "       110             5.2106      4.2383            0.2294\n",
       "       125             1.5239      0.5537            1.7520\n",
       "  0.75 75             30.2232     29.8354            0.0130\n",
       "       90             17.9822     17.2421            0.0429\n",
       "       100            11.0774     10.1977            0.0863\n",
       "       110             5.8540      4.8520            0.2065\n",
       "       125             1.7945      0.7026            1.5541\n",
       "  0.90 75             30.4119     29.9823            0.0143\n",
       "       90             18.2933     17.5383            0.0431\n",
       "       100            11.4318     10.5484            0.0837\n",
       "       110             6.1666      5.1560            0.1960\n",
       "       125             1.9339      0.7811            1.4757"
      ]
     },
     "execution_count": 19,
     "metadata": {},
     "output_type": "execute_result"
    }
   ],
   "source": [
    "table2.loc[:,'$\\overline{C}[K]$'] = C_approximate_list\n",
    "table2.loc[:,'$C^sim[K]$'] = C_sim_result_list\n",
    "table2.loc[:,r'$\\varepsilon[K]$'] = abs(table2.loc[:,'$\\overline{C}[K]$'] - table2.loc[:,'$C^sim[K]$'])/ C_sim_result_list\n",
    "table2 = table2.round(4)\n",
    "table2"
   ]
  },
  {
   "attachments": {},
   "cell_type": "markdown",
   "metadata": {},
   "source": [
    "## figure 1"
   ]
  },
  {
   "attachments": {},
   "cell_type": "markdown",
   "metadata": {},
   "source": [
    "$$f_{\\bar{S}}(K)=\\mathrm{e}^{r T} \\frac{\\partial \\bar{C}^2[K]}{\\partial K^2}$$"
   ]
  },
  {
   "cell_type": "code",
   "execution_count": 57,
   "metadata": {},
   "outputs": [
    {
     "data": {
      "text/plain": [
       "27.29809346946704"
      ]
     },
     "execution_count": 57,
     "metadata": {},
     "output_type": "execute_result"
    }
   ],
   "source": [
    "import torch\n",
    "T = 1\n",
    "v = 0.5\n",
    "K = 75\n",
    "r = 0.03\n",
    "rho = np.eye(3)\n",
    "X_0 = np.array([100, 200, 300])\n",
    "q = np.array([0, 0, 0])\n",
    "omega = np.array([0, 0, 0])\n",
    "mu = np.array([-0.1368, -0.056, -0.1984])\n",
    "sigma = np.array([0.1099, 0.1677, 0.0365])\n",
    "weight = np.array([1/3, 1/6, 1/9])\n",
    "\n",
    "sim_times = 10 ** power_num\n",
    "np.random.seed(20240321) \n",
    "Normal_values = multivariate_normal.rvs(mean=[0,0,0], cov=rho, size=sim_times)\n",
    "Gamma_values = np.random.gamma(shape = T/v, scale = v, size=sim_times)\n",
    "omega = 1/v * np.log(1 - 1/2 * (sigma ** 2) * v - mu * v)\n",
    "K_i = K / weight.copy() / len(omega)\n",
    "X_price_vector = X_0 * np.exp((r - q + omega) * T) * np.exp(np.outer(mu, Gamma_values)).T * np.exp(sigma * np.sqrt(Gamma_values.reshape(-1, 1)) * Normal_values)\n",
    "S_price_vector = np.dot(X_price_vector, weight)\n",
    "C_sim = np.dot((S_price_vector - K), (S_price_vector - K > 0)) / len(S_price_vector)* np.exp(-r * T)\n",
    "# C_sim.backward()\n",
    "# K.grad\n",
    "C_sim\n"
   ]
  },
  {
   "cell_type": "code",
   "execution_count": 22,
   "metadata": {},
   "outputs": [
    {
     "name": "stdout",
     "output_type": "stream",
     "text": [
      "tensor(3.)\n"
     ]
    }
   ],
   "source": [
    "import torch\n",
    "\n",
    "# 创建一个需要求导的张量\n",
    "x = torch.tensor(2.0, requires_grad=True)\n",
    "x_i = x / torch.tensor([2.0,2.0], requires_grad=True)\n",
    "\n",
    "# 定义一个函数 y = x^2\n",
    "y = sum(x_i ** 2 + x_i)\n",
    "\n",
    "# 对 y 进行求导\n",
    "y.backward()\n",
    "\n",
    "# 打印导数值\n",
    "print(x.grad)  # 输出：tensor(4.)\n"
   ]
  },
  {
   "attachments": {},
   "cell_type": "markdown",
   "metadata": {},
   "source": [
    "# bak"
   ]
  },
  {
   "attachments": {},
   "cell_type": "markdown",
   "metadata": {},
   "source": [
    "## 换逻辑前，list然后append然后整体运算"
   ]
  },
  {
   "cell_type": "code",
   "execution_count": null,
   "metadata": {},
   "outputs": [],
   "source": [
    "from tqdm import tqdm\n",
    "C_upper_lst = list()\n",
    "C_lower_lst = list()\n",
    "var_upper_lst = list()\n",
    "var_lower_lst = list()\n",
    "var_Sy_lst = list()\n",
    "C_sim_list = list()\n",
    "C_sim_result_list = list()\n",
    "power_num = 6\n",
    "\n",
    "for (T,v,K) in tqdm(table2.index.values):\n",
    "    C_upper = C_upper_calculate_func(T, v, K, sigma, mu, omega, r, q)\n",
    "    C_upper_lst.append(C_upper)\n",
    "    C_lower = C_lower_calculate_func(T, v, K, sigma, mu, omega, r, q)\n",
    "    C_lower_lst.append(C_lower)\n",
    "    var_upper = var_upper_calculate_func(T, v, K, sigma, mu, omega, r, q)\n",
    "    var_upper_lst.append(var_upper)\n",
    "    var_lower = var_lower_calculate_func(T, v, K, sigma, mu, omega, r, q)\n",
    "    var_lower_lst.append(var_lower)\n",
    "    var_Sy = var_Sy_calculate_func(T, v, K, sigma, mu, omega, r, q)\n",
    "    var_Sy_lst.append(var_Sy)\n",
    "    C_sim = monte_carlo_calculate_func(T, v, K, sigma, mu, omega, r, q, power_num)\n",
    "    C_sim_result_list.append(C_sim)\n",
    "    z_y = (np.array(var_upper_lst) - np.array(var_Sy_lst))/(np.array(var_upper_lst) - np.array(var_lower_lst))\n",
    "    C_approximate = z_y * C_lower_lst + (1-z_y) * C_upper_lst\n",
    "    \n",
    "table2.loc[:,'$\\overline{C}[K]$'] = C_approximate\n",
    "table2.loc[:,'$C^sim[K]$'] = C_sim_result_list\n",
    "table2.loc[:,r'$\\varepsilon[K]$'] = abs(table2.loc[:,'$\\overline{C}[K]$'] - table2.loc[:,'$C^sim[K]$'])/ table2.loc[:,'$C^sim[K]$']\n",
    "table2 = table2.round(4)\n",
    "table2\n",
    "# table2.loc[:,'$C^u$'] = C_upper_lst\n",
    "# table2.loc[:,'$C^l$'] = C_lower_lst\n",
    "# table2.loc[:,'$Var^u$'] = var_upper_lst\n",
    "# table2.loc[:,'$Var^l$'] = var_lower_lst\n",
    "# table2.loc[:,'$Var[Sy]$'] = var_Sy_lst\n",
    "# table2.loc[:,'$z_y$'] = (table2.loc[:,'$Var^u$'] - table2.loc[:,'$Var[Sy]$'])/(table2.loc[:,'$Var^u$'] - table2.loc[:,'$Var^l$'] )\n",
    "# table2.loc[:,'$\\overline{C}[K]$'] = table2.loc[:,'$z_y$'] * table2.loc[:,'$C^l$'] + (1-table2.loc[:,'$z_y$']) * table2.loc[:,'$C^u$']"
   ]
  }
 ],
 "metadata": {
  "kernelspec": {
   "display_name": "base",
   "language": "python",
   "name": "python3"
  },
  "language_info": {
   "codemirror_mode": {
    "name": "ipython",
    "version": 3
   },
   "file_extension": ".py",
   "mimetype": "text/x-python",
   "name": "python",
   "nbconvert_exporter": "python",
   "pygments_lexer": "ipython3",
   "version": "3.9.16"
  },
  "orig_nbformat": 4
 },
 "nbformat": 4,
 "nbformat_minor": 2
}
