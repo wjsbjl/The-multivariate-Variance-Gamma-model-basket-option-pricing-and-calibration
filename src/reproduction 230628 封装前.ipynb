{
 "cells": [
  {
   "attachments": {},
   "cell_type": "markdown",
   "metadata": {},
   "source": [
    "# 环境配置"
   ]
  },
  {
   "cell_type": "code",
   "execution_count": 1,
   "metadata": {},
   "outputs": [],
   "source": [
    "import numpy as np\n",
    "import pandas as pd\n",
    "from scipy.stats import multivariate_normal\n",
    "from tqdm import trange"
   ]
  },
  {
   "attachments": {},
   "cell_type": "markdown",
   "metadata": {},
   "source": [
    "# The multivariate Variance Gamma model basket option pricing and calibration 论文复刻"
   ]
  },
  {
   "attachments": {},
   "cell_type": "markdown",
   "metadata": {},
   "source": [
    "Parameter  \n",
    "$r = 3\\%$  \n",
    "$\\rho_{i,j}=0, ~for~i \\ne j ~and~ i, j = 1, 2, 3$  \n",
    "$N = 10^6$"
   ]
  },
  {
   "attachments": {},
   "cell_type": "markdown",
   "metadata": {
    "collapsed": false
   },
   "source": [
    "| 1| 1 | 2 | 3|\n",
    "|- |- |- |- |\n",
    "|$\\mu$|-0.1368 | -0.056 | -0.1984 |\n",
    "|$\\sigma$| 0.1099 | 0.1677 | 0.0365 |\n",
    "| $X(0)$ | 100 | 200 | 300 |\n",
    "| $\\omega$ | 1/3 | 1/6 | 1/9 |"
   ]
  },
  {
   "attachments": {},
   "cell_type": "markdown",
   "metadata": {},
   "source": [
    "$$\\varepsilon[K]=\\frac{|\\overline{C}[K] - C^{sim}[K]|}{C^{sim}[K]}$$"
   ]
  },
  {
   "cell_type": "code",
   "execution_count": 2,
   "metadata": {},
   "outputs": [],
   "source": [
    "r = 0.03\n",
    "rho = np.eye(3)"
   ]
  },
  {
   "attachments": {},
   "cell_type": "markdown",
   "metadata": {},
   "source": [
    "## table1"
   ]
  },
  {
   "cell_type": "code",
   "execution_count": 3,
   "metadata": {},
   "outputs": [
    {
     "data": {
      "text/html": [
       "<div>\n",
       "<style scoped>\n",
       "    .dataframe tbody tr th:only-of-type {\n",
       "        vertical-align: middle;\n",
       "    }\n",
       "\n",
       "    .dataframe tbody tr th {\n",
       "        vertical-align: top;\n",
       "    }\n",
       "\n",
       "    .dataframe thead th {\n",
       "        text-align: right;\n",
       "    }\n",
       "</style>\n",
       "<table border=\"1\" class=\"dataframe\">\n",
       "  <thead>\n",
       "    <tr style=\"text-align: right;\">\n",
       "      <th></th>\n",
       "      <th>X_0</th>\n",
       "      <th>mu</th>\n",
       "      <th>sigma</th>\n",
       "      <th>weight</th>\n",
       "    </tr>\n",
       "  </thead>\n",
       "  <tbody>\n",
       "    <tr>\n",
       "      <th>stock 1</th>\n",
       "      <td>100</td>\n",
       "      <td>-0.1368</td>\n",
       "      <td>0.1099</td>\n",
       "      <td>0.333333</td>\n",
       "    </tr>\n",
       "    <tr>\n",
       "      <th>stock 2</th>\n",
       "      <td>200</td>\n",
       "      <td>-0.0560</td>\n",
       "      <td>0.1677</td>\n",
       "      <td>0.166667</td>\n",
       "    </tr>\n",
       "    <tr>\n",
       "      <th>stock 3</th>\n",
       "      <td>300</td>\n",
       "      <td>-0.1984</td>\n",
       "      <td>0.0365</td>\n",
       "      <td>0.111111</td>\n",
       "    </tr>\n",
       "  </tbody>\n",
       "</table>\n",
       "</div>"
      ],
      "text/plain": [
       "         X_0      mu   sigma    weight\n",
       "stock 1  100 -0.1368  0.1099  0.333333\n",
       "stock 2  200 -0.0560  0.1677  0.166667\n",
       "stock 3  300 -0.1984  0.0365  0.111111"
      ]
     },
     "execution_count": 3,
     "metadata": {},
     "output_type": "execute_result"
    }
   ],
   "source": [
    "X_0 = np.array([100, 200, 300])\n",
    "q = np.array([0, 0, 0])\n",
    "omega = np.array([0, 0, 0])\n",
    "mu = np.array([-0.1368, -0.056, -0.1984])\n",
    "sigma = np.array([0.1099, 0.1677, 0.0365])\n",
    "weight = np.array([1/3, 1/6, 1/9]) # w是权重，omega才是参数\n",
    "K = np.array([0, 0, 0])\n",
    "parameter_list = [X_0, q, omega, mu, sigma, weight, K]\n",
    "\n",
    "table1 = pd.DataFrame(data =  {'X_0': X_0, 'mu': mu,'sigma': sigma, 'weight' : weight},\n",
    "                      index =  ['stock 1', 'stock 2', 'stock 3'])\n",
    "table1"
   ]
  },
  {
   "attachments": {},
   "cell_type": "markdown",
   "metadata": {},
   "source": [
    "## table2"
   ]
  },
  {
   "attachments": {},
   "cell_type": "markdown",
   "metadata": {},
   "source": [
    "先做个表头"
   ]
  },
  {
   "cell_type": "code",
   "execution_count": 4,
   "metadata": {},
   "outputs": [
    {
     "data": {
      "text/html": [
       "<div>\n",
       "<style scoped>\n",
       "    .dataframe tbody tr th:only-of-type {\n",
       "        vertical-align: middle;\n",
       "    }\n",
       "\n",
       "    .dataframe tbody tr th {\n",
       "        vertical-align: top;\n",
       "    }\n",
       "\n",
       "    .dataframe thead tr th {\n",
       "        text-align: left;\n",
       "    }\n",
       "</style>\n",
       "<table border=\"1\" class=\"dataframe\">\n",
       "  <thead>\n",
       "    <tr>\n",
       "      <th>T</th>\n",
       "      <th colspan=\"10\" halign=\"left\">1</th>\n",
       "      <th>...</th>\n",
       "      <th colspan=\"10\" halign=\"left\">2</th>\n",
       "    </tr>\n",
       "    <tr>\n",
       "      <th>v</th>\n",
       "      <th colspan=\"5\" halign=\"left\">0.50</th>\n",
       "      <th colspan=\"5\" halign=\"left\">0.75</th>\n",
       "      <th>...</th>\n",
       "      <th colspan=\"5\" halign=\"left\">0.75</th>\n",
       "      <th colspan=\"5\" halign=\"left\">0.90</th>\n",
       "    </tr>\n",
       "    <tr>\n",
       "      <th>K</th>\n",
       "      <th>75</th>\n",
       "      <th>90</th>\n",
       "      <th>100</th>\n",
       "      <th>110</th>\n",
       "      <th>125</th>\n",
       "      <th>75</th>\n",
       "      <th>90</th>\n",
       "      <th>100</th>\n",
       "      <th>110</th>\n",
       "      <th>125</th>\n",
       "      <th>...</th>\n",
       "      <th>75</th>\n",
       "      <th>90</th>\n",
       "      <th>100</th>\n",
       "      <th>110</th>\n",
       "      <th>125</th>\n",
       "      <th>75</th>\n",
       "      <th>90</th>\n",
       "      <th>100</th>\n",
       "      <th>110</th>\n",
       "      <th>125</th>\n",
       "    </tr>\n",
       "  </thead>\n",
       "  <tbody>\n",
       "    <tr>\n",
       "      <th>$\\overline{C}[K]$</th>\n",
       "      <td>0.0</td>\n",
       "      <td>0.0</td>\n",
       "      <td>0.0</td>\n",
       "      <td>0.0</td>\n",
       "      <td>0.0</td>\n",
       "      <td>0.0</td>\n",
       "      <td>0.0</td>\n",
       "      <td>0.0</td>\n",
       "      <td>0.0</td>\n",
       "      <td>0.0</td>\n",
       "      <td>...</td>\n",
       "      <td>0.0</td>\n",
       "      <td>0.0</td>\n",
       "      <td>0.0</td>\n",
       "      <td>0.0</td>\n",
       "      <td>0.0</td>\n",
       "      <td>0.0</td>\n",
       "      <td>0.0</td>\n",
       "      <td>0.0</td>\n",
       "      <td>0.0</td>\n",
       "      <td>0.0</td>\n",
       "    </tr>\n",
       "    <tr>\n",
       "      <th>$C^sim[K]$</th>\n",
       "      <td>0.0</td>\n",
       "      <td>0.0</td>\n",
       "      <td>0.0</td>\n",
       "      <td>0.0</td>\n",
       "      <td>0.0</td>\n",
       "      <td>0.0</td>\n",
       "      <td>0.0</td>\n",
       "      <td>0.0</td>\n",
       "      <td>0.0</td>\n",
       "      <td>0.0</td>\n",
       "      <td>...</td>\n",
       "      <td>0.0</td>\n",
       "      <td>0.0</td>\n",
       "      <td>0.0</td>\n",
       "      <td>0.0</td>\n",
       "      <td>0.0</td>\n",
       "      <td>0.0</td>\n",
       "      <td>0.0</td>\n",
       "      <td>0.0</td>\n",
       "      <td>0.0</td>\n",
       "      <td>0.0</td>\n",
       "    </tr>\n",
       "    <tr>\n",
       "      <th>$\\varepsilon[K]$</th>\n",
       "      <td>0.0</td>\n",
       "      <td>0.0</td>\n",
       "      <td>0.0</td>\n",
       "      <td>0.0</td>\n",
       "      <td>0.0</td>\n",
       "      <td>0.0</td>\n",
       "      <td>0.0</td>\n",
       "      <td>0.0</td>\n",
       "      <td>0.0</td>\n",
       "      <td>0.0</td>\n",
       "      <td>...</td>\n",
       "      <td>0.0</td>\n",
       "      <td>0.0</td>\n",
       "      <td>0.0</td>\n",
       "      <td>0.0</td>\n",
       "      <td>0.0</td>\n",
       "      <td>0.0</td>\n",
       "      <td>0.0</td>\n",
       "      <td>0.0</td>\n",
       "      <td>0.0</td>\n",
       "      <td>0.0</td>\n",
       "    </tr>\n",
       "  </tbody>\n",
       "</table>\n",
       "<p>3 rows × 30 columns</p>\n",
       "</div>"
      ],
      "text/plain": [
       "T                    1                                               ...    2  \\\n",
       "v                 0.50                     0.75                      ... 0.75   \n",
       "K                  75   90   100  110  125  75   90   100  110  125  ...  75    \n",
       "$\\overline{C}[K]$  0.0  0.0  0.0  0.0  0.0  0.0  0.0  0.0  0.0  0.0  ...  0.0   \n",
       "$C^sim[K]$         0.0  0.0  0.0  0.0  0.0  0.0  0.0  0.0  0.0  0.0  ...  0.0   \n",
       "$\\varepsilon[K]$   0.0  0.0  0.0  0.0  0.0  0.0  0.0  0.0  0.0  0.0  ...  0.0   \n",
       "\n",
       "T                                                               \n",
       "v                                     0.90                      \n",
       "K                  90   100  110  125  75   90   100  110  125  \n",
       "$\\overline{C}[K]$  0.0  0.0  0.0  0.0  0.0  0.0  0.0  0.0  0.0  \n",
       "$C^sim[K]$         0.0  0.0  0.0  0.0  0.0  0.0  0.0  0.0  0.0  \n",
       "$\\varepsilon[K]$   0.0  0.0  0.0  0.0  0.0  0.0  0.0  0.0  0.0  \n",
       "\n",
       "[3 rows x 30 columns]"
      ]
     },
     "execution_count": 4,
     "metadata": {},
     "output_type": "execute_result"
    }
   ],
   "source": [
    "from itertools import product\n",
    "# T, v, K, C_hat, C_sim, vare\n",
    "\n",
    "T = [1, 2]\n",
    "v = [0.5, 0.75, 0.9]\n",
    "K = [75, 90, 100, 110, 125]\n",
    "\n",
    "table2 = pd.DataFrame(list(product(T, v, K)), columns = ['T', 'v', 'K']).set_index(['T','v', 'K'])\n",
    "table2.loc[:,['$\\overline{C}[K]$','$C^sim[K]$', r'$\\varepsilon[K]$']] = 0\n",
    "table2.T"
   ]
  },
  {
   "attachments": {},
   "cell_type": "markdown",
   "metadata": {},
   "source": [
    "### 计算所有T, v, K"
   ]
  },
  {
   "cell_type": "code",
   "execution_count": 5,
   "metadata": {},
   "outputs": [],
   "source": [
    "from scipy.stats import norm\n",
    "import scipy.integrate as sci\n",
    "import math\n",
    "from scipy.stats import norm\n",
    "from scipy.optimize import fsolve # 解决非线性方程组的数值求解问题\n",
    "from scipy.optimize import bisect # 解决非线性方程组的数值求解问题\n",
    "from scipy.stats import gamma # gamma分布的概率密度"
   ]
  },
  {
   "attachments": {},
   "cell_type": "markdown",
   "metadata": {},
   "source": [
    "#### upper"
   ]
  },
  {
   "cell_type": "code",
   "execution_count": 6,
   "metadata": {},
   "outputs": [
    {
     "name": "stderr",
     "output_type": "stream",
     "text": [
      "100%|██████████| 30/30 [00:04<00:00,  6.24it/s]\n"
     ]
    }
   ],
   "source": [
    "from tqdm import tqdm\n",
    "C_upper_lst = list()\n",
    "for (T,v,K) in tqdm(table2.index.values):\n",
    "    omega = 1/v * np.log(1 - 1/2 * (sigma ** 2) * v - mu * v)\n",
    "    K_i = K / weight.copy() / len(table1)\n",
    "    def f(x):\n",
    "        gamma_density = gamma(a=T/v, scale=v).pdf(x) # ((1/v) ** (T/v)) / (math.gamma(T/v)) * (x ** (T/v - 1)) * np.exp(-x / v)\n",
    "        d_1 = (np.log(X_0/K_i) + (r - q + omega) * T + mu * x + sigma ** 2 * x)/(sigma * np.sqrt(x))\n",
    "        d_2 = d_1 - sigma * np.sqrt(x)\n",
    "        exp_upper = np.exp((r - q + omega ) * T + (mu + sigma ** 2 / 2) * x)\n",
    "        X_price_numerical = ((X_0 * exp_upper * norm.cdf(d_1) - K_i * norm.cdf(d_2)))\n",
    "        S_price_numerical = np.dot(X_price_numerical, weight)\n",
    "        return S_price_numerical * gamma_density * np.exp(-r * T)\n",
    "    C_upper = sci.quad(f, 0, np.inf)[0]\n",
    "    C_upper_lst.append(C_upper)"
   ]
  },
  {
   "cell_type": "code",
   "execution_count": 7,
   "metadata": {},
   "outputs": [],
   "source": [
    "table2.loc[:,'$C^u$'] = C_upper_lst\n",
    "# table2"
   ]
  },
  {
   "attachments": {},
   "cell_type": "markdown",
   "metadata": {},
   "source": [
    "#### lower"
   ]
  },
  {
   "attachments": {},
   "cell_type": "markdown",
   "metadata": {},
   "source": [
    "$$\\lambda_i = w_j X_j(0)\\exp\\{(r-q_j+\\omega_j)T+\\mu_j y+\\frac{\\sigma_j^2 y}{2}\\}$$  \n",
    "$$\\sigma_{\\Lambda_y}^2=\\sum_{i=1}^n\\lambda_i^2\\sigma_i^2+\\sum_{i=1, i\\ne j}^n \\lambda_i \\lambda_j \\sigma_i \\sigma_j \\rho_{i,j}$$  \n",
    "$$r_i=\\frac{\\sum_{i=1}^n\\lambda_j\\sigma_j\\rho_{i,j}}{\\sigma_{\\Lambda_y}}$$"
   ]
  },
  {
   "cell_type": "code",
   "execution_count": 8,
   "metadata": {},
   "outputs": [
    {
     "name": "stderr",
     "output_type": "stream",
     "text": [
      "100%|██████████| 30/30 [00:08<00:00,  3.64it/s]\n"
     ]
    }
   ],
   "source": [
    "from tqdm import tqdm\n",
    "C_lower_lst = list()\n",
    "for (T,v,K) in tqdm(table2.index.values):\n",
    "    def g(x):\n",
    "        omega = 1/v * np.log(1 - 1/2 * (sigma ** 2) * v - mu * v)\n",
    "        K_i = K / weight.copy() / len(table1)\n",
    "        lambda_i = weight * X_0 * np.exp((r - q + omega) * T + (mu + sigma ** 2 / 2) * x)\n",
    "        sigma2Lambda = np.dot(np.dot((lambda_i * sigma),rho),(lambda_i * sigma)) # 是个矩阵\n",
    "        r_i = np.dot((lambda_i * sigma),rho)/sigma2Lambda\n",
    "        gamma_density = gamma(a=T/v, scale=v).pdf(x) # ((1/v) ** (T/v)) / (math.gamma(T/v)) * (x ** (T/v - 1)) * np.exp(-x / v)\n",
    "        d_1 = (np.log(X_0/K_i) + (r - q + omega) * T + mu * x + sigma ** 2 * x / 2 * (1 + r_i ** 2))/(sigma * np.sqrt(x) * r_i)\n",
    "        d_2 = d_1 - sigma * np.sqrt(x) * r_i\n",
    "        exp_lower = np.exp((r + omega - q) * T + (mu + sigma ** 2 / 2) * x)\n",
    "        X_price_numerical = ((X_0 * exp_lower * norm.cdf(d_1) - K_i * norm.cdf(d_2)))\n",
    "        S_price_numerical = np.dot(X_price_numerical, weight)\n",
    "        return S_price_numerical * gamma_density * np.exp(-r * T)\n",
    "    C_lower = sci.quad(g, 0, np.inf)[0]\n",
    "    C_lower_lst.append(C_lower)"
   ]
  },
  {
   "cell_type": "code",
   "execution_count": 9,
   "metadata": {},
   "outputs": [],
   "source": [
    "table2.loc[:,'$C^l$'] = C_lower_lst\n",
    "table2 = table2.round(4)\n",
    "# table2"
   ]
  },
  {
   "attachments": {},
   "cell_type": "markdown",
   "metadata": {},
   "source": [
    "#### z_y to approximate"
   ]
  },
  {
   "attachments": {},
   "cell_type": "markdown",
   "metadata": {},
   "source": [
    "##### var upper"
   ]
  },
  {
   "attachments": {},
   "cell_type": "markdown",
   "metadata": {},
   "source": [
    "\\begin{align}\n",
    "& \\operatorname{Var}\\left[S_y^c\\right]=\\sum_{i=1}^n \\sum_{j=1}^n w_i w_j X_i(0) X_j(0) \\\\\n",
    "& \\quad e^{2 r T+\\left(\\omega_i-q_i+\\omega_j-q_j\\right) T+\\left(\\mu_i+\\mu_j\\right) y+\\frac{\\sigma_i^2+\\sigma_j^2}{2} y}\\left(e^{\\sigma_i \\sigma_j y}-1\\right) .\n",
    "\\end{align}"
   ]
  },
  {
   "cell_type": "code",
   "execution_count": 10,
   "metadata": {},
   "outputs": [
    {
     "name": "stderr",
     "output_type": "stream",
     "text": [
      "100%|██████████| 30/30 [00:02<00:00, 10.64it/s]\n"
     ]
    }
   ],
   "source": [
    "from tqdm import tqdm\n",
    "var_upper_lst = list()\n",
    "for (T,v,K) in tqdm(table2.index.values):\n",
    "    def var_upper_calculate(x):\n",
    "        gamma_density = gamma(a=T/v, scale=v).pdf(x) # ((1/v) ** (T/v)) / (math.gamma(T/v)) * (x ** (T/v - 1)) * np.exp(-x / v)\n",
    "        var_upper_part1 = np.outer(X_0 * weight, X_0 * weight)\n",
    "        var_upper_part2 = np.exp(2 * r * T)\n",
    "        var_upper_part3 = np.outer(np.exp((weight - q) * T + mu * x + sigma ** 2 / 2 * x),np.exp((weight - q) * T + mu * x + sigma ** 2 / 2 * x))\n",
    "        var_upper_part4 = np.exp(np.outer(sigma,sigma) * x) - 1\n",
    "        var_upper_int = sum(sum(var_upper_part1 * var_upper_part2 * var_upper_part3 * var_upper_part4))\n",
    "        return var_upper_int * gamma_density\n",
    "    var_upper = sci.quad(var_upper_calculate, 0, np.inf)[0]\n",
    "    var_upper_lst.append(var_upper)"
   ]
  },
  {
   "cell_type": "code",
   "execution_count": 11,
   "metadata": {},
   "outputs": [],
   "source": [
    "table2.loc[:,'$Var^u$'] = var_upper_lst\n",
    "# table2"
   ]
  },
  {
   "attachments": {},
   "cell_type": "markdown",
   "metadata": {},
   "source": [
    "\\begin{align*}\n",
    "\\operatorname{Var}  {\\left[S_y^l\\right]}&={\\sum_{i=1}^n \\sum_{j=1}^n w_i w_j X_i(0) X_j(0) } \\\\\n",
    "&\\quad \\times \\mathrm{e}^{2 r T+\\left(\\omega_i-q_i+\\omega_j-q_j\\right) T+\\left(\\mu_i+\\mu_j+\\frac{1}{2}\\left(\\sigma_i^2\\left(1-r_i^2\\right)+\\sigma_j^2\\left(1-r_j^2\\right)\\right)\\right) y} \\\\\n",
    "&\\quad \\times e^{\\frac{1}{2}(r^2_i\\sigma^2_i+r^2_j\\sigma^2_j)y}(e^{r_ir_j\\sigma_i\\sigma_jy}-1)\\\\\n",
    "& {=\\sum_{i=1}^n \\sum_{j=1}^n w_i w_j X_i(0) X_j(0) } \\\\\n",
    "&\\quad \\times \\mathrm{e}^{2 r T+\\left(\\omega_i-q_i+\\omega_j-q_j\\right) T+\\left(\\mu_i+\\mu_j+\\frac{1}{2}\\left(\\sigma_i^2+\\sigma_j^2\\right)\\right) y} \\\\\n",
    "& \\quad\\times (e^{r_ir_j\\sigma_i\\sigma_jy}-1)\n",
    "\\end{align*}"
   ]
  },
  {
   "attachments": {},
   "cell_type": "markdown",
   "metadata": {},
   "source": [
    "权重是$w$  \n",
    "$$\\lambda_i = w_j X_j(0)\\exp\\{(r-q_j+\\omega_j)T+\\mu_j y+\\frac{\\sigma_j^2 y}{2}\\}$$  \n",
    "$$\\sigma_{\\Lambda_y}^2=\\sum_{i=1}^n\\lambda_i^2\\sigma_i^2+\\sum_{i=1, i\\ne j}^n \\lambda_i \\lambda_j \\sigma_i \\sigma_j \\rho_{i,j}$$  \n",
    "$$r_i=\\frac{\\sum_{i=1}^n\\lambda_j\\sigma_j\\rho_{i,j}}{\\sigma_{\\Lambda_y}}$$"
   ]
  },
  {
   "attachments": {},
   "cell_type": "markdown",
   "metadata": {},
   "source": [
    "##### var lower "
   ]
  },
  {
   "cell_type": "code",
   "execution_count": 12,
   "metadata": {},
   "outputs": [
    {
     "name": "stderr",
     "output_type": "stream",
     "text": [
      "100%|██████████| 30/30 [00:02<00:00, 10.12it/s]\n"
     ]
    }
   ],
   "source": [
    "from tqdm import tqdm\n",
    "var_lower_lst = list()\n",
    "for (T,v,K) in tqdm(table2.index.values):\n",
    "    def var_lower_calculation(x):\n",
    "        lambda_i = weight * X_0 * np.exp((r - q + omega) * T + (mu + sigma ** 2 / 2) * x)\n",
    "        sigma2Lambda = np.dot(np.dot((lambda_i * sigma),rho),(lambda_i * sigma)) # 是个矩阵\n",
    "        r_i = np.dot((lambda_i * sigma),rho)/np.sqrt(sigma2Lambda)\n",
    "        gamma_density = gamma(a=T/v, scale=v).pdf(x) # ((1/v) ** (T/v)) / (math.gamma(T/v)) * (x ** (T/v - 1)) * np.exp(-x / v)\n",
    "        var_lower_part1 = np.outer(X_0 * weight, X_0 * weight)\n",
    "        var_lower_part2 = np.exp(2 * r * T)\n",
    "        var_lower_part3 = np.outer(np.exp((weight - q) * T + mu * x + sigma ** 2 / 2 * x),np.exp((weight - q) * T + mu * x + sigma ** 2 / 2 * x))\n",
    "        var_lower_part4 = np.exp(np.outer(sigma * r_i, sigma * r_i) * x) - 1\n",
    "        var_lower_int = sum(sum(var_lower_part1 * var_lower_part2 * var_lower_part3 * var_lower_part4))\n",
    "        return var_lower_int * gamma_density\n",
    "    var_lower = sci.quad(var_lower_calculation, 0, np.inf)[0]\n",
    "    var_lower_lst.append(var_lower)"
   ]
  },
  {
   "cell_type": "code",
   "execution_count": 13,
   "metadata": {},
   "outputs": [],
   "source": [
    "table2.loc[:,'$Var^l$'] = var_lower_lst\n",
    "# table2"
   ]
  },
  {
   "attachments": {},
   "cell_type": "markdown",
   "metadata": {},
   "source": [
    "##### var Sy"
   ]
  },
  {
   "attachments": {},
   "cell_type": "markdown",
   "metadata": {},
   "source": [
    "\\begin{align*}\n",
    "\t\\mathrm{Var}[{_y}S]=\\sum_{i=1}^{n} \\sum_{j=1}^{n} w_{i} w_{j} X_{i}(0) X_{j}(0)  \n",
    "\t\\mathrm{e}^{2 r T+\\left(\\omega_{i}-q_{i}+\\omega_{j}-q_{j}\\right) T+\\left(\\mu_{i}+\\mu_{j}\\right) y} \n",
    "\te^{\\frac{\\sigma_i^2+\\sigma_j^2+\\rho_{i,j}\\sigma_i\\sigma_j\n",
    "\t}{4-\\rho^2_{i,j}}2(1-\\rho^2_{i,j})y}\n",
    "\\end{align*}\n"
   ]
  },
  {
   "cell_type": "code",
   "execution_count": 14,
   "metadata": {},
   "outputs": [
    {
     "name": "stderr",
     "output_type": "stream",
     "text": [
      "100%|██████████| 30/30 [00:02<00:00, 10.88it/s]\n"
     ]
    }
   ],
   "source": [
    "from tqdm import tqdm\n",
    "var_Sy_lst = list()\n",
    "for (T,v,K) in tqdm(table2.index.values):\n",
    "    def var_calculation(x):\n",
    "        gamma_density = gamma(a=T/v, scale=v).pdf(x) # ((1/v) ** (T/v)) / (math.gamma(T/v)) * (x ** (T/v - 1)) * np.exp(-x / v)\n",
    "        var_part1 = np.outer(X_0 * weight, X_0 * weight)\n",
    "        var_part2 = np.exp(2 * r * T)\n",
    "        var_part3 = np.outer(np.exp((weight - q) * T + mu * x),np.exp((weight - q) * T + mu * x))\n",
    "        var_part4_i_ne_j = np.exp((sigma ** 2 + (sigma ** 2).reshape(len(sigma),-1) + np.outer(sigma, sigma) * rho) * 2 * (1 - rho ** 2) * x/(4 - rho ** 2))\n",
    "        np.fill_diagonal(var_part4_i_ne_j, np.outer(np.exp(x * sigma ** 2), np.exp(x * sigma ** 2 * 2))) # 生成E[XY] # TODO\n",
    "        var_part4 = var_part4_i_ne_j - np.outer(np.exp(sigma ** 2 / 2 * x), np.exp(sigma ** 2 / 2 * x))\n",
    "        # var_part4 = (np.exp((sigma ** 2) * 2 * (1 - rho ** 2) * x/(4 - rho ** 2))) * (np.exp((sigma ** 2) * 2 * (1 - rho ** 2) * x/(4 - rho ** 2))) #* np.exp(np.outer(sigma,sigma) * rho  * 2 * (1 - rho ** 2) * x/(4 - rho ** 2))\n",
    "        var_int = sum(sum(var_part1 * var_part2 * var_part3 * var_part4))\n",
    "        return var_int * gamma_density\n",
    "    var_Sy = sci.quad(var_calculation, 0, np.inf)[0]\n",
    "    var_Sy_lst.append(var_Sy)"
   ]
  },
  {
   "cell_type": "code",
   "execution_count": 15,
   "metadata": {},
   "outputs": [],
   "source": [
    "table2.loc[:,'$Var[Sy]$'] = var_Sy_lst\n",
    "# table2"
   ]
  },
  {
   "attachments": {},
   "cell_type": "markdown",
   "metadata": {},
   "source": [
    "$$z_y = \\frac{Var[S_y^c]-Var[S_y]}{Var[S_y^c]-Var[S_y^l]}$$  "
   ]
  },
  {
   "cell_type": "code",
   "execution_count": 16,
   "metadata": {},
   "outputs": [],
   "source": [
    "table2.loc[:,'$z_y$'] = (table2.loc[:,'$Var^u$'] - table2.loc[:,'$Var[Sy]$'])/(table2.loc[:,'$Var^u$'] - table2.loc[:,'$Var^l$'] )\n",
    "table2.loc[:,'$\\overline{C}[K]$'] = table2.loc[:,'$z_y$'] * table2.loc[:,'$C^l$'] + (1-table2.loc[:,'$z_y$']) * table2.loc[:,'$C^u$']\n",
    "# table2"
   ]
  },
  {
   "attachments": {},
   "cell_type": "markdown",
   "metadata": {},
   "source": [
    "#### sim"
   ]
  },
  {
   "attachments": {},
   "cell_type": "markdown",
   "metadata": {},
   "source": [
    "##### 生成随机数"
   ]
  },
  {
   "attachments": {},
   "cell_type": "markdown",
   "metadata": {},
   "source": [
    "##### 蒙特卡洛（向量化，指令并行）"
   ]
  },
  {
   "cell_type": "code",
   "execution_count": 18,
   "metadata": {},
   "outputs": [
    {
     "name": "stderr",
     "output_type": "stream",
     "text": [
      "100%|██████████| 30/30 [00:09<00:00,  3.14it/s]\n"
     ]
    }
   ],
   "source": [
    "from tqdm import tqdm\n",
    "C_sim_list = list()\n",
    "C_sim_result_list= list()\n",
    "power_num = 6\n",
    "sim_times = 10 ** power_num\n",
    "for (T,v,K) in tqdm(table2.index.values):\n",
    "    np.random.seed(20240321) \n",
    "    Normal_values = multivariate_normal.rvs(mean=[0,0,0], cov=rho, size=sim_times)\n",
    "    Gamma_values = np.random.gamma(shape = T/v, scale = v, size=sim_times)\n",
    "    omega = 1/v * np.log(1 - 1/2 * (sigma ** 2) * v - mu * v)\n",
    "    K_i = K / weight.copy() / len(table1)\n",
    "    X_price_vector = X_0 * np.exp((r - q + omega) * T) * np.exp(np.outer(mu, Gamma_values)).T * np.exp(sigma * np.sqrt(Gamma_values.reshape(-1, 1)) * Normal_values)\n",
    "    S_price_vector = np.dot(X_price_vector, weight)\n",
    "    C_sim_vector_list = (S_price_vector - K) * (S_price_vector - K > 0)\n",
    "    C_sim = sum(C_sim_vector_list) * np.exp(-r * T) / len(C_sim_vector_list) # 原论文是27.3230\n",
    "    C_sim_result_list.append(C_sim)\n",
    "    C_sim_list = list()"
   ]
  },
  {
   "cell_type": "code",
   "execution_count": 19,
   "metadata": {},
   "outputs": [],
   "source": [
    "table2.loc[:,'$C^sim[K]$'] = C_sim_result_list\n",
    "table2.loc[:,r'$\\varepsilon[K]$'] = abs(table2.loc[:,'$\\overline{C}[K]$'] - table2.loc[:,'$C^sim[K]$'])/ table2.loc[:,'$C^sim[K]$']\n",
    "# table2"
   ]
  },
  {
   "cell_type": "code",
   "execution_count": 20,
   "metadata": {},
   "outputs": [
    {
     "data": {
      "text/html": [
       "<div>\n",
       "<style scoped>\n",
       "    .dataframe tbody tr th:only-of-type {\n",
       "        vertical-align: middle;\n",
       "    }\n",
       "\n",
       "    .dataframe tbody tr th {\n",
       "        vertical-align: top;\n",
       "    }\n",
       "\n",
       "    .dataframe thead th {\n",
       "        text-align: right;\n",
       "    }\n",
       "</style>\n",
       "<table border=\"1\" class=\"dataframe\">\n",
       "  <thead>\n",
       "    <tr style=\"text-align: right;\">\n",
       "      <th></th>\n",
       "      <th></th>\n",
       "      <th></th>\n",
       "      <th>$\\overline{C}[K]$</th>\n",
       "      <th>$C^sim[K]$</th>\n",
       "      <th>$\\varepsilon[K]$</th>\n",
       "      <th>$C^u$</th>\n",
       "      <th>$C^l$</th>\n",
       "      <th>$Var^u$</th>\n",
       "      <th>$Var^l$</th>\n",
       "      <th>$Var[Sy]$</th>\n",
       "      <th>$z_y$</th>\n",
       "    </tr>\n",
       "    <tr>\n",
       "      <th>T</th>\n",
       "      <th>v</th>\n",
       "      <th>K</th>\n",
       "      <th></th>\n",
       "      <th></th>\n",
       "      <th></th>\n",
       "      <th></th>\n",
       "      <th></th>\n",
       "      <th></th>\n",
       "      <th></th>\n",
       "      <th></th>\n",
       "      <th></th>\n",
       "    </tr>\n",
       "  </thead>\n",
       "  <tbody>\n",
       "    <tr>\n",
       "      <th rowspan=\"15\" valign=\"top\">1</th>\n",
       "      <th rowspan=\"5\" valign=\"top\">0.50</th>\n",
       "      <th>75</th>\n",
       "      <td>27.4591</td>\n",
       "      <td>27.3116</td>\n",
       "      <td>0.0054</td>\n",
       "      <td>27.5449</td>\n",
       "      <td>27.3232</td>\n",
       "      <td>141.9349</td>\n",
       "      <td>61.6949</td>\n",
       "      <td>110.8710</td>\n",
       "      <td>0.3871</td>\n",
       "    </tr>\n",
       "    <tr>\n",
       "      <th>90</th>\n",
       "      <td>14.0228</td>\n",
       "      <td>13.5774</td>\n",
       "      <td>0.0328</td>\n",
       "      <td>14.4322</td>\n",
       "      <td>13.3746</td>\n",
       "      <td>141.9349</td>\n",
       "      <td>61.6949</td>\n",
       "      <td>110.8710</td>\n",
       "      <td>0.3871</td>\n",
       "    </tr>\n",
       "    <tr>\n",
       "      <th>100</th>\n",
       "      <td>6.5478</td>\n",
       "      <td>5.9578</td>\n",
       "      <td>0.0990</td>\n",
       "      <td>7.3757</td>\n",
       "      <td>5.2373</td>\n",
       "      <td>141.9349</td>\n",
       "      <td>61.6949</td>\n",
       "      <td>110.8710</td>\n",
       "      <td>0.3871</td>\n",
       "    </tr>\n",
       "    <tr>\n",
       "      <th>110</th>\n",
       "      <td>1.9861</td>\n",
       "      <td>1.2027</td>\n",
       "      <td>0.6513</td>\n",
       "      <td>2.6928</td>\n",
       "      <td>0.8673</td>\n",
       "      <td>141.9349</td>\n",
       "      <td>61.6949</td>\n",
       "      <td>110.8710</td>\n",
       "      <td>0.3871</td>\n",
       "    </tr>\n",
       "    <tr>\n",
       "      <th>125</th>\n",
       "      <td>0.2383</td>\n",
       "      <td>0.0060</td>\n",
       "      <td>38.5228</td>\n",
       "      <td>0.3888</td>\n",
       "      <td>0.0000</td>\n",
       "      <td>141.9349</td>\n",
       "      <td>61.6949</td>\n",
       "      <td>110.8710</td>\n",
       "      <td>0.3871</td>\n",
       "    </tr>\n",
       "    <tr>\n",
       "      <th rowspan=\"5\" valign=\"top\">0.75</th>\n",
       "      <th>75</th>\n",
       "      <td>27.6453</td>\n",
       "      <td>27.4386</td>\n",
       "      <td>0.0075</td>\n",
       "      <td>27.7540</td>\n",
       "      <td>27.4721</td>\n",
       "      <td>137.2473</td>\n",
       "      <td>60.0173</td>\n",
       "      <td>107.4557</td>\n",
       "      <td>0.3858</td>\n",
       "    </tr>\n",
       "    <tr>\n",
       "      <th>90</th>\n",
       "      <td>14.4322</td>\n",
       "      <td>13.9589</td>\n",
       "      <td>0.0339</td>\n",
       "      <td>14.8389</td>\n",
       "      <td>13.7845</td>\n",
       "      <td>137.2473</td>\n",
       "      <td>60.0173</td>\n",
       "      <td>107.4557</td>\n",
       "      <td>0.3858</td>\n",
       "    </tr>\n",
       "    <tr>\n",
       "      <th>100</th>\n",
       "      <td>7.0165</td>\n",
       "      <td>6.4220</td>\n",
       "      <td>0.0926</td>\n",
       "      <td>7.7711</td>\n",
       "      <td>5.8148</td>\n",
       "      <td>137.2473</td>\n",
       "      <td>60.0173</td>\n",
       "      <td>107.4557</td>\n",
       "      <td>0.3858</td>\n",
       "    </tr>\n",
       "    <tr>\n",
       "      <th>110</th>\n",
       "      <td>2.2323</td>\n",
       "      <td>1.3957</td>\n",
       "      <td>0.5994</td>\n",
       "      <td>2.8860</td>\n",
       "      <td>1.1914</td>\n",
       "      <td>137.2473</td>\n",
       "      <td>60.0173</td>\n",
       "      <td>107.4557</td>\n",
       "      <td>0.3858</td>\n",
       "    </tr>\n",
       "    <tr>\n",
       "      <th>125</th>\n",
       "      <td>0.2268</td>\n",
       "      <td>0.0051</td>\n",
       "      <td>43.3222</td>\n",
       "      <td>0.3693</td>\n",
       "      <td>0.0000</td>\n",
       "      <td>137.2473</td>\n",
       "      <td>60.0173</td>\n",
       "      <td>107.4557</td>\n",
       "      <td>0.3858</td>\n",
       "    </tr>\n",
       "    <tr>\n",
       "      <th rowspan=\"5\" valign=\"top\">0.90</th>\n",
       "      <th>75</th>\n",
       "      <td>27.7607</td>\n",
       "      <td>27.5319</td>\n",
       "      <td>0.0083</td>\n",
       "      <td>27.8794</td>\n",
       "      <td>27.5708</td>\n",
       "      <td>134.6077</td>\n",
       "      <td>59.0700</td>\n",
       "      <td>105.5446</td>\n",
       "      <td>0.3847</td>\n",
       "    </tr>\n",
       "    <tr>\n",
       "      <th>90</th>\n",
       "      <td>14.6447</td>\n",
       "      <td>14.1706</td>\n",
       "      <td>0.0335</td>\n",
       "      <td>15.0469</td>\n",
       "      <td>14.0015</td>\n",
       "      <td>134.6077</td>\n",
       "      <td>59.0700</td>\n",
       "      <td>105.5446</td>\n",
       "      <td>0.3847</td>\n",
       "    </tr>\n",
       "    <tr>\n",
       "      <th>100</th>\n",
       "      <td>7.2406</td>\n",
       "      <td>6.6586</td>\n",
       "      <td>0.0874</td>\n",
       "      <td>7.9595</td>\n",
       "      <td>6.0911</td>\n",
       "      <td>134.6077</td>\n",
       "      <td>59.0700</td>\n",
       "      <td>105.5446</td>\n",
       "      <td>0.3847</td>\n",
       "    </tr>\n",
       "    <tr>\n",
       "      <th>110</th>\n",
       "      <td>2.3458</td>\n",
       "      <td>1.4925</td>\n",
       "      <td>0.5717</td>\n",
       "      <td>2.9714</td>\n",
       "      <td>1.3453</td>\n",
       "      <td>134.6077</td>\n",
       "      <td>59.0700</td>\n",
       "      <td>105.5446</td>\n",
       "      <td>0.3847</td>\n",
       "    </tr>\n",
       "    <tr>\n",
       "      <th>125</th>\n",
       "      <td>0.2209</td>\n",
       "      <td>0.0048</td>\n",
       "      <td>44.6008</td>\n",
       "      <td>0.3591</td>\n",
       "      <td>0.0000</td>\n",
       "      <td>134.6077</td>\n",
       "      <td>59.0700</td>\n",
       "      <td>105.5446</td>\n",
       "      <td>0.3847</td>\n",
       "    </tr>\n",
       "    <tr>\n",
       "      <th rowspan=\"15\" valign=\"top\">2</th>\n",
       "      <th rowspan=\"5\" valign=\"top\">0.50</th>\n",
       "      <th>75</th>\n",
       "      <td>29.9060</td>\n",
       "      <td>29.6091</td>\n",
       "      <td>0.0100</td>\n",
       "      <td>30.0965</td>\n",
       "      <td>29.5989</td>\n",
       "      <td>403.7162</td>\n",
       "      <td>176.9713</td>\n",
       "      <td>316.9234</td>\n",
       "      <td>0.3828</td>\n",
       "    </tr>\n",
       "    <tr>\n",
       "      <th>90</th>\n",
       "      <td>17.3836</td>\n",
       "      <td>16.6890</td>\n",
       "      <td>0.0416</td>\n",
       "      <td>18.0287</td>\n",
       "      <td>16.3435</td>\n",
       "      <td>403.7162</td>\n",
       "      <td>176.9713</td>\n",
       "      <td>316.9234</td>\n",
       "      <td>0.3828</td>\n",
       "    </tr>\n",
       "    <tr>\n",
       "      <th>100</th>\n",
       "      <td>10.3539</td>\n",
       "      <td>9.4982</td>\n",
       "      <td>0.0901</td>\n",
       "      <td>11.4680</td>\n",
       "      <td>8.5573</td>\n",
       "      <td>403.7162</td>\n",
       "      <td>176.9713</td>\n",
       "      <td>316.9234</td>\n",
       "      <td>0.3828</td>\n",
       "    </tr>\n",
       "    <tr>\n",
       "      <th>110</th>\n",
       "      <td>5.1992</td>\n",
       "      <td>4.2383</td>\n",
       "      <td>0.2267</td>\n",
       "      <td>6.5056</td>\n",
       "      <td>3.0927</td>\n",
       "      <td>403.7162</td>\n",
       "      <td>176.9713</td>\n",
       "      <td>316.9234</td>\n",
       "      <td>0.3828</td>\n",
       "    </tr>\n",
       "    <tr>\n",
       "      <th>125</th>\n",
       "      <td>1.5182</td>\n",
       "      <td>0.5537</td>\n",
       "      <td>1.7417</td>\n",
       "      <td>2.1768</td>\n",
       "      <td>0.4562</td>\n",
       "      <td>403.7162</td>\n",
       "      <td>176.9713</td>\n",
       "      <td>316.9234</td>\n",
       "      <td>0.3828</td>\n",
       "    </tr>\n",
       "    <tr>\n",
       "      <th rowspan=\"5\" valign=\"top\">0.75</th>\n",
       "      <th>75</th>\n",
       "      <td>30.2213</td>\n",
       "      <td>29.8354</td>\n",
       "      <td>0.0129</td>\n",
       "      <td>30.4404</td>\n",
       "      <td>29.8647</td>\n",
       "      <td>391.8035</td>\n",
       "      <td>172.5531</td>\n",
       "      <td>308.3564</td>\n",
       "      <td>0.3806</td>\n",
       "    </tr>\n",
       "    <tr>\n",
       "      <th>90</th>\n",
       "      <td>17.9767</td>\n",
       "      <td>17.2421</td>\n",
       "      <td>0.0426</td>\n",
       "      <td>18.6099</td>\n",
       "      <td>16.9462</td>\n",
       "      <td>391.8035</td>\n",
       "      <td>172.5531</td>\n",
       "      <td>308.3564</td>\n",
       "      <td>0.3806</td>\n",
       "    </tr>\n",
       "    <tr>\n",
       "      <th>100</th>\n",
       "      <td>11.0685</td>\n",
       "      <td>10.1977</td>\n",
       "      <td>0.0854</td>\n",
       "      <td>12.1011</td>\n",
       "      <td>9.3881</td>\n",
       "      <td>391.8035</td>\n",
       "      <td>172.5531</td>\n",
       "      <td>308.3564</td>\n",
       "      <td>0.3806</td>\n",
       "    </tr>\n",
       "    <tr>\n",
       "      <th>110</th>\n",
       "      <td>5.8436</td>\n",
       "      <td>4.8520</td>\n",
       "      <td>0.2044</td>\n",
       "      <td>7.0529</td>\n",
       "      <td>3.8755</td>\n",
       "      <td>391.8035</td>\n",
       "      <td>172.5531</td>\n",
       "      <td>308.3564</td>\n",
       "      <td>0.3806</td>\n",
       "    </tr>\n",
       "    <tr>\n",
       "      <th>125</th>\n",
       "      <td>1.7891</td>\n",
       "      <td>0.7026</td>\n",
       "      <td>1.5464</td>\n",
       "      <td>2.4236</td>\n",
       "      <td>0.7564</td>\n",
       "      <td>391.8035</td>\n",
       "      <td>172.5531</td>\n",
       "      <td>308.3564</td>\n",
       "      <td>0.3806</td>\n",
       "    </tr>\n",
       "    <tr>\n",
       "      <th rowspan=\"5\" valign=\"top\">0.90</th>\n",
       "      <th>75</th>\n",
       "      <td>30.4099</td>\n",
       "      <td>29.9823</td>\n",
       "      <td>0.0143</td>\n",
       "      <td>30.6407</td>\n",
       "      <td>30.0322</td>\n",
       "      <td>385.0500</td>\n",
       "      <td>170.0432</td>\n",
       "      <td>303.5124</td>\n",
       "      <td>0.3792</td>\n",
       "    </tr>\n",
       "    <tr>\n",
       "      <th>90</th>\n",
       "      <td>18.2880</td>\n",
       "      <td>17.5383</td>\n",
       "      <td>0.0427</td>\n",
       "      <td>18.9119</td>\n",
       "      <td>17.2668</td>\n",
       "      <td>385.0500</td>\n",
       "      <td>170.0432</td>\n",
       "      <td>303.5124</td>\n",
       "      <td>0.3792</td>\n",
       "    </tr>\n",
       "    <tr>\n",
       "      <th>100</th>\n",
       "      <td>11.4233</td>\n",
       "      <td>10.5484</td>\n",
       "      <td>0.0829</td>\n",
       "      <td>12.4153</td>\n",
       "      <td>9.7996</td>\n",
       "      <td>385.0500</td>\n",
       "      <td>170.0432</td>\n",
       "      <td>303.5124</td>\n",
       "      <td>0.3792</td>\n",
       "    </tr>\n",
       "    <tr>\n",
       "      <th>110</th>\n",
       "      <td>6.1567</td>\n",
       "      <td>5.1560</td>\n",
       "      <td>0.1941</td>\n",
       "      <td>7.3180</td>\n",
       "      <td>4.2558</td>\n",
       "      <td>385.0500</td>\n",
       "      <td>170.0432</td>\n",
       "      <td>303.5124</td>\n",
       "      <td>0.3792</td>\n",
       "    </tr>\n",
       "    <tr>\n",
       "      <th>125</th>\n",
       "      <td>1.9286</td>\n",
       "      <td>0.7811</td>\n",
       "      <td>1.4690</td>\n",
       "      <td>2.5470</td>\n",
       "      <td>0.9164</td>\n",
       "      <td>385.0500</td>\n",
       "      <td>170.0432</td>\n",
       "      <td>303.5124</td>\n",
       "      <td>0.3792</td>\n",
       "    </tr>\n",
       "  </tbody>\n",
       "</table>\n",
       "</div>"
      ],
      "text/plain": [
       "            $\\overline{C}[K]$  $C^sim[K]$  $\\varepsilon[K]$    $C^u$    $C^l$  \\\n",
       "T v    K                                                                        \n",
       "1 0.50 75             27.4591     27.3116            0.0054  27.5449  27.3232   \n",
       "       90             14.0228     13.5774            0.0328  14.4322  13.3746   \n",
       "       100             6.5478      5.9578            0.0990   7.3757   5.2373   \n",
       "       110             1.9861      1.2027            0.6513   2.6928   0.8673   \n",
       "       125             0.2383      0.0060           38.5228   0.3888   0.0000   \n",
       "  0.75 75             27.6453     27.4386            0.0075  27.7540  27.4721   \n",
       "       90             14.4322     13.9589            0.0339  14.8389  13.7845   \n",
       "       100             7.0165      6.4220            0.0926   7.7711   5.8148   \n",
       "       110             2.2323      1.3957            0.5994   2.8860   1.1914   \n",
       "       125             0.2268      0.0051           43.3222   0.3693   0.0000   \n",
       "  0.90 75             27.7607     27.5319            0.0083  27.8794  27.5708   \n",
       "       90             14.6447     14.1706            0.0335  15.0469  14.0015   \n",
       "       100             7.2406      6.6586            0.0874   7.9595   6.0911   \n",
       "       110             2.3458      1.4925            0.5717   2.9714   1.3453   \n",
       "       125             0.2209      0.0048           44.6008   0.3591   0.0000   \n",
       "2 0.50 75             29.9060     29.6091            0.0100  30.0965  29.5989   \n",
       "       90             17.3836     16.6890            0.0416  18.0287  16.3435   \n",
       "       100            10.3539      9.4982            0.0901  11.4680   8.5573   \n",
       "       110             5.1992      4.2383            0.2267   6.5056   3.0927   \n",
       "       125             1.5182      0.5537            1.7417   2.1768   0.4562   \n",
       "  0.75 75             30.2213     29.8354            0.0129  30.4404  29.8647   \n",
       "       90             17.9767     17.2421            0.0426  18.6099  16.9462   \n",
       "       100            11.0685     10.1977            0.0854  12.1011   9.3881   \n",
       "       110             5.8436      4.8520            0.2044   7.0529   3.8755   \n",
       "       125             1.7891      0.7026            1.5464   2.4236   0.7564   \n",
       "  0.90 75             30.4099     29.9823            0.0143  30.6407  30.0322   \n",
       "       90             18.2880     17.5383            0.0427  18.9119  17.2668   \n",
       "       100            11.4233     10.5484            0.0829  12.4153   9.7996   \n",
       "       110             6.1567      5.1560            0.1941   7.3180   4.2558   \n",
       "       125             1.9286      0.7811            1.4690   2.5470   0.9164   \n",
       "\n",
       "             $Var^u$   $Var^l$  $Var[Sy]$   $z_y$  \n",
       "T v    K                                           \n",
       "1 0.50 75   141.9349   61.6949   110.8710  0.3871  \n",
       "       90   141.9349   61.6949   110.8710  0.3871  \n",
       "       100  141.9349   61.6949   110.8710  0.3871  \n",
       "       110  141.9349   61.6949   110.8710  0.3871  \n",
       "       125  141.9349   61.6949   110.8710  0.3871  \n",
       "  0.75 75   137.2473   60.0173   107.4557  0.3858  \n",
       "       90   137.2473   60.0173   107.4557  0.3858  \n",
       "       100  137.2473   60.0173   107.4557  0.3858  \n",
       "       110  137.2473   60.0173   107.4557  0.3858  \n",
       "       125  137.2473   60.0173   107.4557  0.3858  \n",
       "  0.90 75   134.6077   59.0700   105.5446  0.3847  \n",
       "       90   134.6077   59.0700   105.5446  0.3847  \n",
       "       100  134.6077   59.0700   105.5446  0.3847  \n",
       "       110  134.6077   59.0700   105.5446  0.3847  \n",
       "       125  134.6077   59.0700   105.5446  0.3847  \n",
       "2 0.50 75   403.7162  176.9713   316.9234  0.3828  \n",
       "       90   403.7162  176.9713   316.9234  0.3828  \n",
       "       100  403.7162  176.9713   316.9234  0.3828  \n",
       "       110  403.7162  176.9713   316.9234  0.3828  \n",
       "       125  403.7162  176.9713   316.9234  0.3828  \n",
       "  0.75 75   391.8035  172.5531   308.3564  0.3806  \n",
       "       90   391.8035  172.5531   308.3564  0.3806  \n",
       "       100  391.8035  172.5531   308.3564  0.3806  \n",
       "       110  391.8035  172.5531   308.3564  0.3806  \n",
       "       125  391.8035  172.5531   308.3564  0.3806  \n",
       "  0.90 75   385.0500  170.0432   303.5124  0.3792  \n",
       "       90   385.0500  170.0432   303.5124  0.3792  \n",
       "       100  385.0500  170.0432   303.5124  0.3792  \n",
       "       110  385.0500  170.0432   303.5124  0.3792  \n",
       "       125  385.0500  170.0432   303.5124  0.3792  "
      ]
     },
     "execution_count": 20,
     "metadata": {},
     "output_type": "execute_result"
    }
   ],
   "source": [
    "table2 = table2.round(4)\n",
    "table2"
   ]
  },
  {
   "attachments": {},
   "cell_type": "markdown",
   "metadata": {},
   "source": [
    "## figure 1"
   ]
  },
  {
   "attachments": {},
   "cell_type": "markdown",
   "metadata": {},
   "source": [
    "$$f_{\\bar{S}}(K)=\\mathrm{e}^{r T} \\frac{\\partial \\bar{C}^2[K]}{\\partial K^2}$$"
   ]
  },
  {
   "cell_type": "code",
   "execution_count": 55,
   "metadata": {},
   "outputs": [
    {
     "ename": "RuntimeError",
     "evalue": "Can't call numpy() on Tensor that requires grad. Use tensor.detach().numpy() instead.",
     "output_type": "error",
     "traceback": [
      "\u001b[0;31m---------------------------------------------------------------------------\u001b[0m",
      "\u001b[0;31mRuntimeError\u001b[0m                              Traceback (most recent call last)",
      "Cell \u001b[0;32mIn[55], line 14\u001b[0m\n\u001b[1;32m     12\u001b[0m Normal_values \u001b[39m=\u001b[39m multivariate_normal\u001b[39m.\u001b[39mrvs(mean\u001b[39m=\u001b[39m[\u001b[39m0\u001b[39m,\u001b[39m0\u001b[39m,\u001b[39m0\u001b[39m], cov\u001b[39m=\u001b[39mrho, size\u001b[39m=\u001b[39msim_times)\n\u001b[1;32m     13\u001b[0m Gamma_values \u001b[39m=\u001b[39m np\u001b[39m.\u001b[39mrandom\u001b[39m.\u001b[39mgamma(shape \u001b[39m=\u001b[39m T\u001b[39m/\u001b[39mv, scale \u001b[39m=\u001b[39m v, size\u001b[39m=\u001b[39msim_times)\n\u001b[0;32m---> 14\u001b[0m omega \u001b[39m=\u001b[39m \u001b[39m1\u001b[39m\u001b[39m/\u001b[39mv \u001b[39m*\u001b[39m np\u001b[39m.\u001b[39;49mlog(\u001b[39m1\u001b[39;49m \u001b[39m-\u001b[39;49m \u001b[39m1\u001b[39;49m\u001b[39m/\u001b[39;49m\u001b[39m2\u001b[39;49m \u001b[39m*\u001b[39;49m (sigma \u001b[39m*\u001b[39;49m\u001b[39m*\u001b[39;49m \u001b[39m2\u001b[39;49m) \u001b[39m*\u001b[39;49m v \u001b[39m-\u001b[39;49m mu \u001b[39m*\u001b[39;49m v)\n\u001b[1;32m     15\u001b[0m K_i \u001b[39m=\u001b[39m K \u001b[39m/\u001b[39m weight\u001b[39m.\u001b[39mcopy() \u001b[39m/\u001b[39m \u001b[39mlen\u001b[39m(table1)\n\u001b[1;32m     16\u001b[0m X_price_vector \u001b[39m=\u001b[39m X_0 \u001b[39m*\u001b[39m np\u001b[39m.\u001b[39mexp((r \u001b[39m-\u001b[39m q \u001b[39m+\u001b[39m omega) \u001b[39m*\u001b[39m T) \u001b[39m*\u001b[39m np\u001b[39m.\u001b[39mexp(np\u001b[39m.\u001b[39mouter(mu, Gamma_values))\u001b[39m.\u001b[39mT \u001b[39m*\u001b[39m np\u001b[39m.\u001b[39mexp(sigma \u001b[39m*\u001b[39m np\u001b[39m.\u001b[39msqrt(Gamma_values\u001b[39m.\u001b[39mreshape(\u001b[39m-\u001b[39m\u001b[39m1\u001b[39m, \u001b[39m1\u001b[39m)) \u001b[39m*\u001b[39m Normal_values)\n",
      "File \u001b[0;32m~/opt/anaconda3/lib/python3.9/site-packages/torch/_tensor.py:970\u001b[0m, in \u001b[0;36mTensor.__array__\u001b[0;34m(self, dtype)\u001b[0m\n\u001b[1;32m    968\u001b[0m     \u001b[39mreturn\u001b[39;00m handle_torch_function(Tensor\u001b[39m.\u001b[39m__array__, (\u001b[39mself\u001b[39m,), \u001b[39mself\u001b[39m, dtype\u001b[39m=\u001b[39mdtype)\n\u001b[1;32m    969\u001b[0m \u001b[39mif\u001b[39;00m dtype \u001b[39mis\u001b[39;00m \u001b[39mNone\u001b[39;00m:\n\u001b[0;32m--> 970\u001b[0m     \u001b[39mreturn\u001b[39;00m \u001b[39mself\u001b[39;49m\u001b[39m.\u001b[39;49mnumpy()\n\u001b[1;32m    971\u001b[0m \u001b[39melse\u001b[39;00m:\n\u001b[1;32m    972\u001b[0m     \u001b[39mreturn\u001b[39;00m \u001b[39mself\u001b[39m\u001b[39m.\u001b[39mnumpy()\u001b[39m.\u001b[39mastype(dtype, copy\u001b[39m=\u001b[39m\u001b[39mFalse\u001b[39;00m)\n",
      "\u001b[0;31mRuntimeError\u001b[0m: Can't call numpy() on Tensor that requires grad. Use tensor.detach().numpy() instead."
     ]
    }
   ],
   "source": [
    "from tqdm import tqdm\n",
    "i = 0\n",
    "K = 100\n",
    "C_sim_list = list()\n",
    "C_sim_result_list= list()\n",
    "power_num = 5\n",
    "sim_times = 10 ** power_num\n",
    "rho = np.eye(3)\n",
    "(T,v,K) = table2.index.values[i]\n",
    "\n",
    "np.random.seed(20240321) \n",
    "Normal_values = multivariate_normal.rvs(mean=[0,0,0], cov=rho, size=sim_times)\n",
    "Gamma_values = np.random.gamma(shape = T/v, scale = v, size=sim_times)\n",
    "omega = 1/v * np.log(1 - 1/2 * (sigma ** 2) * v - mu * v)\n",
    "K_i = K / weight.copy() / len(table1)\n",
    "X_price_vector = X_0 * np.exp((r - q + omega) * T) * np.exp(np.outer(mu, Gamma_values)).T * np.exp(sigma * np.sqrt(Gamma_values.reshape(-1, 1)) * Normal_values)\n",
    "S_price_vector = np.dot(X_price_vector, weight)\n",
    "C_sim_vector_list = (S_price_vector - K) * (S_price_vector - K > 0)\n",
    "C_sim = sum(C_sim_vector_list) * np.exp(-r * T) / len(C_sim_vector_list) # 原论文是27.3230\n",
    "C_sim_result_list.append(C_sim)\n",
    "C_sim_list = list()"
   ]
  },
  {
   "cell_type": "code",
   "execution_count": 22,
   "metadata": {},
   "outputs": [
    {
     "name": "stdout",
     "output_type": "stream",
     "text": [
      "tensor(3.)\n"
     ]
    }
   ],
   "source": [
    "import torch\n",
    "\n",
    "# 创建一个需要求导的张量\n",
    "x = torch.tensor(2.0, requires_grad=True)\n",
    "x_i = x / torch.tensor([2.0,2.0], requires_grad=True)\n",
    "\n",
    "# 定义一个函数 y = x^2\n",
    "y = sum(x_i ** 2 + x_i)\n",
    "\n",
    "# 对 y 进行求导\n",
    "y.backward()\n",
    "\n",
    "# 打印导数值\n",
    "print(x.grad)  # 输出：tensor(4.)\n"
   ]
  },
  {
   "cell_type": "code",
   "execution_count": 53,
   "metadata": {},
   "outputs": [
    {
     "data": {
      "text/plain": [
       "array([[1., 0., 0.],\n",
       "       [0., 1., 0.],\n",
       "       [0., 0., 1.]])"
      ]
     },
     "execution_count": 53,
     "metadata": {},
     "output_type": "execute_result"
    }
   ],
   "source": []
  },
  {
   "cell_type": "code",
   "execution_count": 54,
   "metadata": {},
   "outputs": [
    {
     "ename": "RuntimeError",
     "evalue": "Can't call numpy() on Tensor that requires grad. Use tensor.detach().numpy() instead.",
     "output_type": "error",
     "traceback": [
      "\u001b[0;31m---------------------------------------------------------------------------\u001b[0m",
      "\u001b[0;31mRuntimeError\u001b[0m                              Traceback (most recent call last)",
      "Cell \u001b[0;32mIn[54], line 17\u001b[0m\n\u001b[1;32m     15\u001b[0m Normal_values \u001b[39m=\u001b[39m multivariate_normal\u001b[39m.\u001b[39mrvs(mean\u001b[39m=\u001b[39m[\u001b[39m0\u001b[39m, \u001b[39m0\u001b[39m, \u001b[39m0\u001b[39m], cov\u001b[39m=\u001b[39mrho, size\u001b[39m=\u001b[39msim_times)\n\u001b[1;32m     16\u001b[0m Gamma_values \u001b[39m=\u001b[39m np\u001b[39m.\u001b[39mrandom\u001b[39m.\u001b[39mgamma(shape\u001b[39m=\u001b[39mT \u001b[39m/\u001b[39m v, scale\u001b[39m=\u001b[39mv, size\u001b[39m=\u001b[39msim_times)\n\u001b[0;32m---> 17\u001b[0m omega \u001b[39m=\u001b[39m \u001b[39m1\u001b[39m \u001b[39m/\u001b[39m v \u001b[39m*\u001b[39m np\u001b[39m.\u001b[39;49mlog(\u001b[39m1\u001b[39;49m \u001b[39m-\u001b[39;49m \u001b[39m1\u001b[39;49m \u001b[39m/\u001b[39;49m \u001b[39m2\u001b[39;49m \u001b[39m*\u001b[39;49m (sigma \u001b[39m*\u001b[39;49m\u001b[39m*\u001b[39;49m \u001b[39m2\u001b[39;49m) \u001b[39m*\u001b[39;49m v \u001b[39m-\u001b[39;49m mu \u001b[39m*\u001b[39;49m v)\n\u001b[1;32m     18\u001b[0m K_i \u001b[39m=\u001b[39m K \u001b[39m/\u001b[39m weight\u001b[39m.\u001b[39mcopy() \u001b[39m/\u001b[39m \u001b[39mlen\u001b[39m(table1)\n\u001b[1;32m     19\u001b[0m X_price_vector \u001b[39m=\u001b[39m X_0 \u001b[39m*\u001b[39m np\u001b[39m.\u001b[39mexp((r \u001b[39m-\u001b[39m q \u001b[39m+\u001b[39m omega) \u001b[39m*\u001b[39m T) \u001b[39m*\u001b[39m np\u001b[39m.\u001b[39mexp(np\u001b[39m.\u001b[39mouter(mu, Gamma_values))\u001b[39m.\u001b[39mT \u001b[39m*\u001b[39m np\u001b[39m.\u001b[39mexp(\n\u001b[1;32m     20\u001b[0m     sigma \u001b[39m*\u001b[39m np\u001b[39m.\u001b[39msqrt(Gamma_values\u001b[39m.\u001b[39mreshape(\u001b[39m-\u001b[39m\u001b[39m1\u001b[39m, \u001b[39m1\u001b[39m)) \u001b[39m*\u001b[39m Normal_values)\n",
      "File \u001b[0;32m~/opt/anaconda3/lib/python3.9/site-packages/torch/_tensor.py:970\u001b[0m, in \u001b[0;36mTensor.__array__\u001b[0;34m(self, dtype)\u001b[0m\n\u001b[1;32m    968\u001b[0m     \u001b[39mreturn\u001b[39;00m handle_torch_function(Tensor\u001b[39m.\u001b[39m__array__, (\u001b[39mself\u001b[39m,), \u001b[39mself\u001b[39m, dtype\u001b[39m=\u001b[39mdtype)\n\u001b[1;32m    969\u001b[0m \u001b[39mif\u001b[39;00m dtype \u001b[39mis\u001b[39;00m \u001b[39mNone\u001b[39;00m:\n\u001b[0;32m--> 970\u001b[0m     \u001b[39mreturn\u001b[39;00m \u001b[39mself\u001b[39;49m\u001b[39m.\u001b[39;49mnumpy()\n\u001b[1;32m    971\u001b[0m \u001b[39melse\u001b[39;00m:\n\u001b[1;32m    972\u001b[0m     \u001b[39mreturn\u001b[39;00m \u001b[39mself\u001b[39m\u001b[39m.\u001b[39mnumpy()\u001b[39m.\u001b[39mastype(dtype, copy\u001b[39m=\u001b[39m\u001b[39mFalse\u001b[39;00m)\n",
      "\u001b[0;31mRuntimeError\u001b[0m: Can't call numpy() on Tensor that requires grad. Use tensor.detach().numpy() instead."
     ]
    }
   ],
   "source": [
    "import torch\n",
    "import torch.nn.functional as F\n",
    "import numpy as np\n",
    "from tqdm import tqdm\n",
    "\n",
    "i = 0\n",
    "K = 100\n",
    "C_sim_list = list()\n",
    "C_sim_result_list = list()\n",
    "rho = np.eye(3)\n",
    "power_num = 5\n",
    "sim_times = 10 ** power_num\n",
    "(T, v, K) = table2.index.values[i]\n",
    "\n",
    "np.random.seed(20240321)\n",
    "Normal_values = multivariate_normal.rvs(mean=[0, 0, 0], cov=rho, size=sim_times)\n",
    "Gamma_values = np.random.gamma(shape=T / v, scale=v, size=sim_times)\n",
    "omega = 1 / v * np.log(1 - 1 / 2 * (sigma ** 2) * v - mu * v)\n",
    "K_i = K / weight.copy() / len(table1)\n",
    "X_price_vector = X_0 * np.exp((r - q + omega) * T) * np.exp(np.outer(mu, Gamma_values)).T * np.exp(\n",
    "    sigma * np.sqrt(Gamma_values.reshape(-1, 1)) * Normal_values)\n",
    "S_price_vector = np.dot(X_price_vector, weight)\n",
    "C_sim_vector_list = torch.tensor((S_price_vector - K) * (S_price_vector - K > 0))\n",
    "C_sim = torch.sum(C_sim_vector_list) * torch.exp(-r * T) / len(C_sim_vector_list)  # 原论文是27.3230\n",
    "C_sim_result_list.append(C_sim.item())\n",
    "\n",
    "# 求导数\n",
    "C_sim.backward()\n",
    "\n",
    "# 输出导数值\n",
    "grad_C_sim = C_sim_vector_list.grad\n",
    "\n",
    "# 将梯度值转换为NumPy数组\n",
    "grad_C_sim_np = grad_C_sim.numpy()\n",
    "\n",
    "# 输出结果\n",
    "print(grad_C_sim_np)\n"
   ]
  },
  {
   "cell_type": "code",
   "execution_count": 23,
   "metadata": {},
   "outputs": [
    {
     "ename": "AttributeError",
     "evalue": "'numpy.float64' object has no attribute 'backward'",
     "output_type": "error",
     "traceback": [
      "\u001b[0;31m---------------------------------------------------------------------------\u001b[0m",
      "\u001b[0;31mAttributeError\u001b[0m                            Traceback (most recent call last)",
      "Cell \u001b[0;32mIn[23], line 1\u001b[0m\n\u001b[0;32m----> 1\u001b[0m C_sim\u001b[39m.\u001b[39;49mbackward()\n",
      "\u001b[0;31mAttributeError\u001b[0m: 'numpy.float64' object has no attribute 'backward'"
     ]
    }
   ],
   "source": [
    "from tqdm import tqdm\n",
    "i = 0\n",
    "K = 100\n",
    "C_sim_list = list()\n",
    "C_sim_result_list= list()\n",
    "power_num = 5\n",
    "sim_times = 10 ** power_num\n",
    "(T,v,K) = table2.index.values[i]\n",
    "\n",
    "np.random.seed(20240321) \n",
    "Normal_values = multivariate_normal.rvs(mean=[0,0,0], cov=rho, size=sim_times)\n",
    "Gamma_values = np.random.gamma(shape = T/v, scale = v, size=sim_times)\n",
    "omega = 1/v * np.log(1 - 1/2 * (sigma ** 2) * v - mu * v)\n",
    "K_i = K / weight.copy() / len(table1)\n",
    "X_price_vector = X_0 * np.exp((r - q + omega) * T) * np.exp(np.outer(mu, Gamma_values)).T * np.exp(sigma * np.sqrt(Gamma_values.reshape(-1, 1)) * Normal_values)\n",
    "S_price_vector = np.dot(X_price_vector, weight)\n",
    "C_sim_vector_list = (S_price_vector - K) * (S_price_vector - K > 0)\n",
    "C_sim = sum(C_sim_vector_list) * np.exp(-r * T) / len(C_sim_vector_list) # 原论文是27.3230\n",
    "C_sim_result_list.append(C_sim)\n",
    "C_sim_list = list()\n",
    "C_sim.backward()"
   ]
  },
  {
   "cell_type": "code",
   "execution_count": 37,
   "metadata": {},
   "outputs": [],
   "source": [
    "rho = rho.clone().detach().requires_grad_(True)\n",
    "v = v.clone().detach().requires_grad_(True)\n",
    "mu = mu.clone().detach().requires_grad_(True)\n",
    "sigma = sigma.clone().detach().requires_grad_(True)\n",
    "omega = omega.clone().detach().requires_grad_(True)\n",
    "T = T.clone().detach().requires_grad_(True)\n",
    "Gamma_values = Gamma_values.clone().detach().requires_grad_(True)\n",
    "Normal_values = Normal_values.clone().detach().requires_grad_(True)"
   ]
  },
  {
   "cell_type": "code",
   "execution_count": 49,
   "metadata": {},
   "outputs": [
    {
     "ename": "RuntimeError",
     "evalue": "Can't call numpy() on Tensor that requires grad. Use tensor.detach().numpy() instead.",
     "output_type": "error",
     "traceback": [
      "\u001b[0;31m---------------------------------------------------------------------------\u001b[0m",
      "\u001b[0;31mRuntimeError\u001b[0m                              Traceback (most recent call last)",
      "Cell \u001b[0;32mIn[49], line 10\u001b[0m\n\u001b[1;32m      8\u001b[0m (T,v,K) \u001b[39m=\u001b[39m table2\u001b[39m.\u001b[39mindex\u001b[39m.\u001b[39mvalues[i]\n\u001b[1;32m      9\u001b[0m np\u001b[39m.\u001b[39mrandom\u001b[39m.\u001b[39mseed(\u001b[39m20240321\u001b[39m) \n\u001b[0;32m---> 10\u001b[0m Normal_values \u001b[39m=\u001b[39m multivariate_normal\u001b[39m.\u001b[39mrvs(mean\u001b[39m=\u001b[39m[\u001b[39m0\u001b[39m,\u001b[39m0\u001b[39m,\u001b[39m0\u001b[39m], cov\u001b[39m=\u001b[39mnp\u001b[39m.\u001b[39;49marray(rho), size\u001b[39m=\u001b[39mnp\u001b[39m.\u001b[39marray(sim_times))\n\u001b[1;32m     11\u001b[0m Gamma_values \u001b[39m=\u001b[39m np\u001b[39m.\u001b[39mrandom\u001b[39m.\u001b[39mgamma(shape \u001b[39m=\u001b[39m T\u001b[39m/\u001b[39mv, scale \u001b[39m=\u001b[39m v, size\u001b[39m=\u001b[39msim_times)\n",
      "File \u001b[0;32m~/opt/anaconda3/lib/python3.9/site-packages/torch/_tensor.py:970\u001b[0m, in \u001b[0;36mTensor.__array__\u001b[0;34m(self, dtype)\u001b[0m\n\u001b[1;32m    968\u001b[0m     \u001b[39mreturn\u001b[39;00m handle_torch_function(Tensor\u001b[39m.\u001b[39m__array__, (\u001b[39mself\u001b[39m,), \u001b[39mself\u001b[39m, dtype\u001b[39m=\u001b[39mdtype)\n\u001b[1;32m    969\u001b[0m \u001b[39mif\u001b[39;00m dtype \u001b[39mis\u001b[39;00m \u001b[39mNone\u001b[39;00m:\n\u001b[0;32m--> 970\u001b[0m     \u001b[39mreturn\u001b[39;00m \u001b[39mself\u001b[39;49m\u001b[39m.\u001b[39;49mnumpy()\n\u001b[1;32m    971\u001b[0m \u001b[39melse\u001b[39;00m:\n\u001b[1;32m    972\u001b[0m     \u001b[39mreturn\u001b[39;00m \u001b[39mself\u001b[39m\u001b[39m.\u001b[39mnumpy()\u001b[39m.\u001b[39mastype(dtype, copy\u001b[39m=\u001b[39m\u001b[39mFalse\u001b[39;00m)\n",
      "\u001b[0;31mRuntimeError\u001b[0m: Can't call numpy() on Tensor that requires grad. Use tensor.detach().numpy() instead."
     ]
    }
   ],
   "source": [
    "from tqdm import tqdm\n",
    "i = 0\n",
    "K = torch.tensor(100.0, requires_grad=True)\n",
    "C_sim_list = list()\n",
    "C_sim_result_list= list()\n",
    "power_num = 5\n",
    "sim_times = 10 ** power_num\n",
    "(T,v,K) = table2.index.values[i]\n",
    "np.random.seed(20240321) \n",
    "Normal_values = multivariate_normal.rvs(mean=[0,0,0], cov=np.array(rho), size=np.array(sim_times))\n",
    "Gamma_values = np.random.gamma(shape = T/v, scale = v, size=sim_times)\n"
   ]
  },
  {
   "cell_type": "code",
   "execution_count": null,
   "metadata": {},
   "outputs": [],
   "source": [
    "omega = 1/v * np.log(1 - 1/2 * (sigma ** 2) * v - mu * v)\n",
    "K_i = K / weight.copy() / len(table1)\n",
    "X_price_vector = X_0 * np.exp((r - q + omega) * T) * np.exp(np.outer(mu, Gamma_values)).T * np.exp(sigma * np.sqrt(Gamma_values.reshape(-1, 1)) * Normal_values)\n",
    "S_price_vector = np.dot(X_price_vector, weight)\n",
    "C_sim_vector_list = (S_price_vector - K) * (S_price_vector - K > 0)\n",
    "C_sim = sum(C_sim_vector_list) * np.exp(-r * T) / len(C_sim_vector_list) # 原论文是27.3230\n",
    "C_sim_result_list.append(C_sim)\n",
    "C_sim_list = list()"
   ]
  },
  {
   "cell_type": "code",
   "execution_count": 74,
   "metadata": {},
   "outputs": [
    {
     "ename": "AttributeError",
     "evalue": "'numpy.float64' object has no attribute 'backward'",
     "output_type": "error",
     "traceback": [
      "\u001b[0;31m---------------------------------------------------------------------------\u001b[0m",
      "\u001b[0;31mAttributeError\u001b[0m                            Traceback (most recent call last)",
      "Cell \u001b[0;32mIn[74], line 1\u001b[0m\n\u001b[0;32m----> 1\u001b[0m C_sim\u001b[39m.\u001b[39;49mbackward()\n",
      "\u001b[0;31mAttributeError\u001b[0m: 'numpy.float64' object has no attribute 'backward'"
     ]
    }
   ],
   "source": [
    "C_sim.backward()\n"
   ]
  },
  {
   "cell_type": "code",
   "execution_count": null,
   "metadata": {},
   "outputs": [],
   "source": []
  }
 ],
 "metadata": {
  "kernelspec": {
   "display_name": "base",
   "language": "python",
   "name": "python3"
  },
  "language_info": {
   "codemirror_mode": {
    "name": "ipython",
    "version": 3
   },
   "file_extension": ".py",
   "mimetype": "text/x-python",
   "name": "python",
   "nbconvert_exporter": "python",
   "pygments_lexer": "ipython3",
   "version": "3.9.16"
  },
  "orig_nbformat": 4
 },
 "nbformat": 4,
 "nbformat_minor": 2
}
